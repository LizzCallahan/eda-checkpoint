{
    "cells": [
        {
            "attachments": {},
            "cell_type": "markdown",
            "metadata": {
                "azdata_cell_guid": "151601c9-ca7a-412e-af80-c62a87e0837e"
            },
            "source": [
                "# Checkpoint Two: Exploratory Data Analysis\n",
                "\n",
                "Now that your chosen dataset is approved, it is time to start working on your analysis. Use this notebook to perform your EDA and make notes where directed to as you work.\n",
                "\n",
                "## Getting Started\n",
                "\n",
                "Since we have not provided your dataset for you, you will need to load the necessary files in this repository. Make sure to include a link back to the original dataset here as well.\n",
                "\n",
                "My dataset:\n",
                "\n",
                "Your first task in EDA is to import necessary libraries and create a dataframe(s). Make note in the form of code comments of what your thought process is as you work on this setup task."
            ]
        },
        {
            "cell_type": "code",
            "execution_count": 1,
            "metadata": {
                "azdata_cell_guid": "7b503e37-6df5-4433-acfb-678b1346db14"
            },
            "outputs": [],
            "source": [
                "import pandas as pd\n",
                "import seaborn as sns\n",
                "import matplotlib.pyplot as plt\n",
                "import numpy as np\n",
                "import ast"
            ]
        },
        {
            "cell_type": "code",
            "execution_count": 2,
            "metadata": {},
            "outputs": [],
            "source": [
                "Amazon_credits = pd.read_csv(r\"C://Users/lizzc/Desktop/LaunchCode/VideoStreamingData/AmazonPrimeData/credits.csv\")\n",
                "Amazon_titles = pd.read_csv(r\"C://Users/lizzc/Desktop/LaunchCode/VideoStreamingData/AmazonPrimeData/titles.csv\")\n",
                "Disney_credits = pd.read_csv(r\"C://Users/lizzc/Desktop/LaunchCode/VideoStreamingData/DisneyData/credits.csv\")\n",
                "Disney_titles = pd.read_csv(r\"C://Users/lizzc/Desktop/LaunchCode/VideoStreamingData/DisneyData/titles.csv\")\n",
                "HBO_credits = pd.read_csv(r\"C://Users/lizzc/Desktop/LaunchCode/VideoStreamingData/HBOData/credits.csv\")\n",
                "HBO_titles = pd.read_csv(r\"C://Users/lizzc/Desktop/LaunchCode/VideoStreamingData/HBOData/titles.csv\")\n",
                "Hulu_credits = pd.read_csv(r\"C://Users/lizzc/Desktop/LaunchCode/VideoStreamingData/HuluData/credits.csv\")\n",
                "Hulu_titles = pd.read_csv(r\"C://Users/lizzc/Desktop/LaunchCode/VideoStreamingData/HuluData/titles.csv\")\n",
                "Netflix_credits = pd.read_csv(r\"C://Users/lizzc/Desktop/LaunchCode/VideoStreamingData/NetflixData/credits.csv\")\n",
                "Netflix_titles = pd.read_csv(r\"C://Users/lizzc/Desktop/LaunchCode/VideoStreamingData/NetflixData/titles.csv\")\n",
                "Paramount_credits = pd.read_csv(r\"C://Users/lizzc/Desktop/LaunchCode/VideoStreamingData/ParamountData/credits.csv\")\n",
                "Paramount_titles = pd.read_csv(r\"C://Users/lizzc/Desktop/LaunchCode/VideoStreamingData/ParamountData/titles.csv\")\n"
            ]
        },
        {
            "cell_type": "markdown",
            "metadata": {},
            "source": [
                "##### Notes on ratings/popularity info\n",
                "\n",
                "IMDB ratings are a user rating between 0 and 10.\n",
                "\n",
                "IMDB votes are the number of ratings a show has recieved.\n",
                "\n",
                "TMDB ratings are a user rating between 0 and 10.\n",
                "\n",
                "Info about tmdb popularity score: https://developers.themoviedb.org/3/getting-started/popularity  \n",
                "\n",
                "I wasn't sure what this was, so I looked it up. The description says it's a data model using these metrics:  \n",
                "\n",
                "Movies  \n",
                "Number of votes for the day  \n",
                "Number of views for the day  \n",
                "Number of users who marked it as a \"favourite\" for the day  \n",
                "Number of users who added it to their \"watchlist\" for the day  \n",
                "Release date  \n",
                "Number of total votes  \n",
                "Previous days score  \n",
                "\n",
                "TV Shows  \n",
                "Number of votes for the day  \n",
                "Number of views for the day  \n",
                "Number of users who marked it as a \"favourite\" for the day  \n",
                "Number of users who added it to their \"watchlist\" for the day  \n",
                "Next/last episode to air date  \n",
                "Number of total votes  \n",
                "Previous days score  "
            ]
        },
        {
            "attachments": {},
            "cell_type": "markdown",
            "metadata": {
                "azdata_cell_guid": "129ce836-524b-4ea8-b394-a959f9308d6a"
            },
            "source": [
                "## Get to Know the Numbers\n",
                "\n",
                "Now that you have everything setup, put any code that you use to get to know the dataframe and its rows and columns better in the cell below. You can use whatever techniques you like, except for visualizations. You will put those in a separate section.\n",
                "\n",
                "When working on your code, make sure to leave comments so that your mentors can understand your thought process."
            ]
        },
        {
            "cell_type": "markdown",
            "metadata": {},
            "source": [
                "### Step 1\n",
                "I am running describe, head, and isnull on each dataframe to get a feel for what information is and isn't fully filled in and to get a feel for what I might drop and if I need to do anything before concatenating them. While I do this, I will run a few other quick scenarios as needed to see what's up with the data, taking notes as I do.\n"
            ]
        },
        {
            "cell_type": "code",
            "execution_count": 3,
            "metadata": {
                "azdata_cell_guid": "0ca2d318-f6e8-43ef-a33e-5304d24d928d",
                "tags": []
            },
            "outputs": [
                {
                    "data": {
                        "text/html": [
                            "<div>\n",
                            "<style scoped>\n",
                            "    .dataframe tbody tr th:only-of-type {\n",
                            "        vertical-align: middle;\n",
                            "    }\n",
                            "\n",
                            "    .dataframe tbody tr th {\n",
                            "        vertical-align: top;\n",
                            "    }\n",
                            "\n",
                            "    .dataframe thead th {\n",
                            "        text-align: right;\n",
                            "    }\n",
                            "</style>\n",
                            "<table border=\"1\" class=\"dataframe\">\n",
                            "  <thead>\n",
                            "    <tr style=\"text-align: right;\">\n",
                            "      <th></th>\n",
                            "      <th>person_id</th>\n",
                            "    </tr>\n",
                            "  </thead>\n",
                            "  <tbody>\n",
                            "    <tr>\n",
                            "      <th>count</th>\n",
                            "      <td>124235.00</td>\n",
                            "    </tr>\n",
                            "    <tr>\n",
                            "      <th>mean</th>\n",
                            "      <td>406473.68</td>\n",
                            "    </tr>\n",
                            "    <tr>\n",
                            "      <th>std</th>\n",
                            "      <td>561629.65</td>\n",
                            "    </tr>\n",
                            "    <tr>\n",
                            "      <th>min</th>\n",
                            "      <td>1.00</td>\n",
                            "    </tr>\n",
                            "    <tr>\n",
                            "      <th>25%</th>\n",
                            "      <td>38992.00</td>\n",
                            "    </tr>\n",
                            "    <tr>\n",
                            "      <th>50%</th>\n",
                            "      <td>133949.00</td>\n",
                            "    </tr>\n",
                            "    <tr>\n",
                            "      <th>75%</th>\n",
                            "      <td>571256.00</td>\n",
                            "    </tr>\n",
                            "    <tr>\n",
                            "      <th>max</th>\n",
                            "      <td>2371153.00</td>\n",
                            "    </tr>\n",
                            "  </tbody>\n",
                            "</table>\n",
                            "</div>"
                        ],
                        "text/plain": [
                            "        person_id\n",
                            "count   124235.00\n",
                            "mean    406473.68\n",
                            "std     561629.65\n",
                            "min          1.00\n",
                            "25%      38992.00\n",
                            "50%     133949.00\n",
                            "75%     571256.00\n",
                            "max    2371153.00"
                        ]
                    },
                    "execution_count": 3,
                    "metadata": {},
                    "output_type": "execute_result"
                }
            ],
            "source": [
                "Amazon_credits.describe().round(2)"
            ]
        },
        {
            "cell_type": "markdown",
            "metadata": {},
            "source": [
                "This is not useful since it's an id, not a number we care about, so I dropped describe for the other credits."
            ]
        },
        {
            "cell_type": "code",
            "execution_count": 4,
            "metadata": {},
            "outputs": [
                {
                    "data": {
                        "text/html": [
                            "<div>\n",
                            "<style scoped>\n",
                            "    .dataframe tbody tr th:only-of-type {\n",
                            "        vertical-align: middle;\n",
                            "    }\n",
                            "\n",
                            "    .dataframe tbody tr th {\n",
                            "        vertical-align: top;\n",
                            "    }\n",
                            "\n",
                            "    .dataframe thead th {\n",
                            "        text-align: right;\n",
                            "    }\n",
                            "</style>\n",
                            "<table border=\"1\" class=\"dataframe\">\n",
                            "  <thead>\n",
                            "    <tr style=\"text-align: right;\">\n",
                            "      <th></th>\n",
                            "      <th>person_id</th>\n",
                            "      <th>id</th>\n",
                            "      <th>name</th>\n",
                            "      <th>character</th>\n",
                            "      <th>role</th>\n",
                            "    </tr>\n",
                            "  </thead>\n",
                            "  <tbody>\n",
                            "    <tr>\n",
                            "      <th>0</th>\n",
                            "      <td>59401</td>\n",
                            "      <td>ts20945</td>\n",
                            "      <td>Joe Besser</td>\n",
                            "      <td>Joe</td>\n",
                            "      <td>ACTOR</td>\n",
                            "    </tr>\n",
                            "    <tr>\n",
                            "      <th>1</th>\n",
                            "      <td>31460</td>\n",
                            "      <td>ts20945</td>\n",
                            "      <td>Moe Howard</td>\n",
                            "      <td>Moe</td>\n",
                            "      <td>ACTOR</td>\n",
                            "    </tr>\n",
                            "    <tr>\n",
                            "      <th>2</th>\n",
                            "      <td>31461</td>\n",
                            "      <td>ts20945</td>\n",
                            "      <td>Larry Fine</td>\n",
                            "      <td>Larry</td>\n",
                            "      <td>ACTOR</td>\n",
                            "    </tr>\n",
                            "    <tr>\n",
                            "      <th>3</th>\n",
                            "      <td>21174</td>\n",
                            "      <td>tm19248</td>\n",
                            "      <td>Buster Keaton</td>\n",
                            "      <td>Johnny Gray</td>\n",
                            "      <td>ACTOR</td>\n",
                            "    </tr>\n",
                            "    <tr>\n",
                            "      <th>4</th>\n",
                            "      <td>28713</td>\n",
                            "      <td>tm19248</td>\n",
                            "      <td>Marion Mack</td>\n",
                            "      <td>Annabelle Lee</td>\n",
                            "      <td>ACTOR</td>\n",
                            "    </tr>\n",
                            "  </tbody>\n",
                            "</table>\n",
                            "</div>"
                        ],
                        "text/plain": [
                            "   person_id       id           name      character   role\n",
                            "0      59401  ts20945     Joe Besser            Joe  ACTOR\n",
                            "1      31460  ts20945     Moe Howard            Moe  ACTOR\n",
                            "2      31461  ts20945     Larry Fine          Larry  ACTOR\n",
                            "3      21174  tm19248  Buster Keaton    Johnny Gray  ACTOR\n",
                            "4      28713  tm19248    Marion Mack  Annabelle Lee  ACTOR"
                        ]
                    },
                    "execution_count": 4,
                    "metadata": {},
                    "output_type": "execute_result"
                }
            ],
            "source": [
                "Amazon_credits.head()"
            ]
        },
        {
            "cell_type": "code",
            "execution_count": 5,
            "metadata": {},
            "outputs": [
                {
                    "data": {
                        "text/plain": [
                            "person_id        0\n",
                            "id               0\n",
                            "name             0\n",
                            "character    16287\n",
                            "role             0\n",
                            "dtype: int64"
                        ]
                    },
                    "execution_count": 5,
                    "metadata": {},
                    "output_type": "execute_result"
                }
            ],
            "source": [
                "Amazon_credits.isnull().sum() "
            ]
        },
        {
            "cell_type": "markdown",
            "metadata": {},
            "source": [
                "I notice there are a lot of character names missing. Is this because they were unnamed characters or because they were directors, etc?"
            ]
        },
        {
            "cell_type": "code",
            "execution_count": 6,
            "metadata": {},
            "outputs": [
                {
                    "data": {
                        "text/plain": [
                            "ACTOR       115846\n",
                            "DIRECTOR      8389\n",
                            "Name: role, dtype: int64"
                        ]
                    },
                    "execution_count": 6,
                    "metadata": {},
                    "output_type": "execute_result"
                }
            ],
            "source": [
                "Amazon_credits[\"role\"].value_counts()"
            ]
        },
        {
            "cell_type": "markdown",
            "metadata": {},
            "source": [
                "It looks like the directors count is only about half of the missing character names, which means those are probably unnamed characters. I might look further into that later and decide if I want to rename that to unnamed for any that aren't marked as directors."
            ]
        },
        {
            "cell_type": "code",
            "execution_count": 7,
            "metadata": {},
            "outputs": [
                {
                    "name": "stdout",
                    "output_type": "stream",
                    "text": [
                        "<class 'pandas.core.frame.DataFrame'>\n",
                        "RangeIndex: 124235 entries, 0 to 124234\n",
                        "Data columns (total 5 columns):\n",
                        " #   Column     Non-Null Count   Dtype \n",
                        "---  ------     --------------   ----- \n",
                        " 0   person_id  124235 non-null  int64 \n",
                        " 1   id         124235 non-null  object\n",
                        " 2   name       124235 non-null  object\n",
                        " 3   character  107948 non-null  object\n",
                        " 4   role       124235 non-null  object\n",
                        "dtypes: int64(1), object(4)\n",
                        "memory usage: 4.7+ MB\n"
                    ]
                }
            ],
            "source": [
                "Amazon_credits.info()"
            ]
        },
        {
            "cell_type": "markdown",
            "metadata": {},
            "source": [
                "I'm not sure this is that valuable here. I might run it to make sure I won't have issues with different data types when concatenating. Or I might just try to concatenate and come back to it if I run into issues."
            ]
        },
        {
            "cell_type": "code",
            "execution_count": 8,
            "metadata": {},
            "outputs": [
                {
                    "data": {
                        "text/html": [
                            "<div>\n",
                            "<style scoped>\n",
                            "    .dataframe tbody tr th:only-of-type {\n",
                            "        vertical-align: middle;\n",
                            "    }\n",
                            "\n",
                            "    .dataframe tbody tr th {\n",
                            "        vertical-align: top;\n",
                            "    }\n",
                            "\n",
                            "    .dataframe thead th {\n",
                            "        text-align: right;\n",
                            "    }\n",
                            "</style>\n",
                            "<table border=\"1\" class=\"dataframe\">\n",
                            "  <thead>\n",
                            "    <tr style=\"text-align: right;\">\n",
                            "      <th></th>\n",
                            "      <th>release_year</th>\n",
                            "      <th>runtime</th>\n",
                            "      <th>seasons</th>\n",
                            "      <th>imdb_score</th>\n",
                            "      <th>imdb_votes</th>\n",
                            "      <th>tmdb_popularity</th>\n",
                            "      <th>tmdb_score</th>\n",
                            "    </tr>\n",
                            "  </thead>\n",
                            "  <tbody>\n",
                            "    <tr>\n",
                            "      <th>count</th>\n",
                            "      <td>9871.00</td>\n",
                            "      <td>9871.00</td>\n",
                            "      <td>1357.00</td>\n",
                            "      <td>8850.00</td>\n",
                            "      <td>8840.00</td>\n",
                            "      <td>9324.00</td>\n",
                            "      <td>7789.00</td>\n",
                            "    </tr>\n",
                            "    <tr>\n",
                            "      <th>mean</th>\n",
                            "      <td>2001.33</td>\n",
                            "      <td>85.97</td>\n",
                            "      <td>2.79</td>\n",
                            "      <td>5.98</td>\n",
                            "      <td>8533.61</td>\n",
                            "      <td>6.91</td>\n",
                            "      <td>5.98</td>\n",
                            "    </tr>\n",
                            "    <tr>\n",
                            "      <th>std</th>\n",
                            "      <td>25.81</td>\n",
                            "      <td>33.51</td>\n",
                            "      <td>4.15</td>\n",
                            "      <td>1.34</td>\n",
                            "      <td>45920.15</td>\n",
                            "      <td>30.00</td>\n",
                            "      <td>1.52</td>\n",
                            "    </tr>\n",
                            "    <tr>\n",
                            "      <th>min</th>\n",
                            "      <td>1912.00</td>\n",
                            "      <td>1.00</td>\n",
                            "      <td>1.00</td>\n",
                            "      <td>1.10</td>\n",
                            "      <td>5.00</td>\n",
                            "      <td>0.00</td>\n",
                            "      <td>0.80</td>\n",
                            "    </tr>\n",
                            "    <tr>\n",
                            "      <th>25%</th>\n",
                            "      <td>1995.50</td>\n",
                            "      <td>65.00</td>\n",
                            "      <td>1.00</td>\n",
                            "      <td>5.10</td>\n",
                            "      <td>117.00</td>\n",
                            "      <td>1.23</td>\n",
                            "      <td>5.10</td>\n",
                            "    </tr>\n",
                            "    <tr>\n",
                            "      <th>50%</th>\n",
                            "      <td>2014.00</td>\n",
                            "      <td>89.00</td>\n",
                            "      <td>1.00</td>\n",
                            "      <td>6.10</td>\n",
                            "      <td>462.50</td>\n",
                            "      <td>2.54</td>\n",
                            "      <td>6.00</td>\n",
                            "    </tr>\n",
                            "    <tr>\n",
                            "      <th>75%</th>\n",
                            "      <td>2018.00</td>\n",
                            "      <td>102.00</td>\n",
                            "      <td>3.00</td>\n",
                            "      <td>6.90</td>\n",
                            "      <td>2236.25</td>\n",
                            "      <td>5.63</td>\n",
                            "      <td>6.90</td>\n",
                            "    </tr>\n",
                            "    <tr>\n",
                            "      <th>max</th>\n",
                            "      <td>2022.00</td>\n",
                            "      <td>549.00</td>\n",
                            "      <td>51.00</td>\n",
                            "      <td>9.90</td>\n",
                            "      <td>1133692.00</td>\n",
                            "      <td>1437.91</td>\n",
                            "      <td>10.00</td>\n",
                            "    </tr>\n",
                            "  </tbody>\n",
                            "</table>\n",
                            "</div>"
                        ],
                        "text/plain": [
                            "       release_year  runtime  seasons  imdb_score  imdb_votes  \\\n",
                            "count       9871.00  9871.00  1357.00     8850.00     8840.00   \n",
                            "mean        2001.33    85.97     2.79        5.98     8533.61   \n",
                            "std           25.81    33.51     4.15        1.34    45920.15   \n",
                            "min         1912.00     1.00     1.00        1.10        5.00   \n",
                            "25%         1995.50    65.00     1.00        5.10      117.00   \n",
                            "50%         2014.00    89.00     1.00        6.10      462.50   \n",
                            "75%         2018.00   102.00     3.00        6.90     2236.25   \n",
                            "max         2022.00   549.00    51.00        9.90  1133692.00   \n",
                            "\n",
                            "       tmdb_popularity  tmdb_score  \n",
                            "count          9324.00     7789.00  \n",
                            "mean              6.91        5.98  \n",
                            "std              30.00        1.52  \n",
                            "min               0.00        0.80  \n",
                            "25%               1.23        5.10  \n",
                            "50%               2.54        6.00  \n",
                            "75%               5.63        6.90  \n",
                            "max            1437.91       10.00  "
                        ]
                    },
                    "execution_count": 8,
                    "metadata": {},
                    "output_type": "execute_result"
                }
            ],
            "source": [
                "Amazon_titles.describe().round(2)"
            ]
        },
        {
            "cell_type": "markdown",
            "metadata": {},
            "source": [
                "Useful Amazon titles info from describe:\n",
                "\n",
                "Median year: 2014 (Using this instead of mean because mean would skew lower.)  \n",
                "Min year: 1912  \n",
                "25% percentile: 1995  \n",
                "Max year: 2022  \n",
                "\n",
                "Runtimes are between 1 minute and 549 minutes (about 9 hours)  \n",
                "Mean runtime: 86 minutes(about 1.5 hours)  \n",
                "Median runtime: 89 minutes (about 1.5 hours)  \n",
                "\n",
                "Mean imdb score: 5.98  \n",
                "Median: 6.10  \n",
                "Min/max: 1.1 / 9.9  \n",
                "\n",
                "Mean imdb votes: 8533  \n",
                "Median votes: 462  \n",
                "Min/max: 5 / 1133692  \n",
                "\n",
                "Mean tmdb score: 5.98  \n",
                "Median: 6.00  \n",
                "Min/max: .8 / 10  \n",
                "\n",
                "Mean tmdb popularity: 6.91  \n",
                "Median: 2.54  \n",
                "Min/max: 0 / 1437.91  "
            ]
        },
        {
            "cell_type": "markdown",
            "metadata": {},
            "source": [
                "Thoughts:  \n",
                "Might want to drop data below a certain runtime. Not sure there is much useful  to be learned about a 1 minute piece.  \n",
                "\n",
                "Looks like most videos (75%) are after 1995. Might be worth breaking out info on the older movies separately. Not sure if 1995 is the right place or if I might even go a little more modern, like last 10 years vs. more than a decade old.  \n",
                "\n",
                "Curious what show has 51 seasons. That's a lot. Seasons data will be more useful if I can find a way to eliminate movies from the mix for that info. Hard to tell if that's already the case here.\n",
                "\n",
                "Will pull this info for the other titles dataframes as an easy reference. "
            ]
        },
        {
            "cell_type": "code",
            "execution_count": 9,
            "metadata": {},
            "outputs": [
                {
                    "data": {
                        "text/html": [
                            "<div>\n",
                            "<style scoped>\n",
                            "    .dataframe tbody tr th:only-of-type {\n",
                            "        vertical-align: middle;\n",
                            "    }\n",
                            "\n",
                            "    .dataframe tbody tr th {\n",
                            "        vertical-align: top;\n",
                            "    }\n",
                            "\n",
                            "    .dataframe thead th {\n",
                            "        text-align: right;\n",
                            "    }\n",
                            "</style>\n",
                            "<table border=\"1\" class=\"dataframe\">\n",
                            "  <thead>\n",
                            "    <tr style=\"text-align: right;\">\n",
                            "      <th></th>\n",
                            "      <th>id</th>\n",
                            "      <th>title</th>\n",
                            "      <th>type</th>\n",
                            "      <th>description</th>\n",
                            "      <th>release_year</th>\n",
                            "      <th>age_certification</th>\n",
                            "      <th>runtime</th>\n",
                            "      <th>genres</th>\n",
                            "      <th>production_countries</th>\n",
                            "      <th>seasons</th>\n",
                            "      <th>imdb_id</th>\n",
                            "      <th>imdb_score</th>\n",
                            "      <th>imdb_votes</th>\n",
                            "      <th>tmdb_popularity</th>\n",
                            "      <th>tmdb_score</th>\n",
                            "    </tr>\n",
                            "  </thead>\n",
                            "  <tbody>\n",
                            "    <tr>\n",
                            "      <th>0</th>\n",
                            "      <td>ts20945</td>\n",
                            "      <td>The Three Stooges</td>\n",
                            "      <td>SHOW</td>\n",
                            "      <td>The Three Stooges were an American vaudeville ...</td>\n",
                            "      <td>1934</td>\n",
                            "      <td>TV-PG</td>\n",
                            "      <td>19</td>\n",
                            "      <td>['comedy', 'family', 'animation', 'action', 'f...</td>\n",
                            "      <td>['US']</td>\n",
                            "      <td>26.0</td>\n",
                            "      <td>tt0850645</td>\n",
                            "      <td>8.6</td>\n",
                            "      <td>1092.0</td>\n",
                            "      <td>15.424</td>\n",
                            "      <td>7.6</td>\n",
                            "    </tr>\n",
                            "    <tr>\n",
                            "      <th>1</th>\n",
                            "      <td>tm19248</td>\n",
                            "      <td>The General</td>\n",
                            "      <td>MOVIE</td>\n",
                            "      <td>During America’s Civil War, Union spies steal ...</td>\n",
                            "      <td>1926</td>\n",
                            "      <td>NaN</td>\n",
                            "      <td>78</td>\n",
                            "      <td>['action', 'drama', 'war', 'western', 'comedy'...</td>\n",
                            "      <td>['US']</td>\n",
                            "      <td>NaN</td>\n",
                            "      <td>tt0017925</td>\n",
                            "      <td>8.2</td>\n",
                            "      <td>89766.0</td>\n",
                            "      <td>8.647</td>\n",
                            "      <td>8.0</td>\n",
                            "    </tr>\n",
                            "    <tr>\n",
                            "      <th>2</th>\n",
                            "      <td>tm82253</td>\n",
                            "      <td>The Best Years of Our Lives</td>\n",
                            "      <td>MOVIE</td>\n",
                            "      <td>It's the hope that sustains the spirit of ever...</td>\n",
                            "      <td>1946</td>\n",
                            "      <td>NaN</td>\n",
                            "      <td>171</td>\n",
                            "      <td>['romance', 'war', 'drama']</td>\n",
                            "      <td>['US']</td>\n",
                            "      <td>NaN</td>\n",
                            "      <td>tt0036868</td>\n",
                            "      <td>8.1</td>\n",
                            "      <td>63026.0</td>\n",
                            "      <td>8.435</td>\n",
                            "      <td>7.8</td>\n",
                            "    </tr>\n",
                            "    <tr>\n",
                            "      <th>3</th>\n",
                            "      <td>tm83884</td>\n",
                            "      <td>His Girl Friday</td>\n",
                            "      <td>MOVIE</td>\n",
                            "      <td>Hildy, the journalist former wife of newspaper...</td>\n",
                            "      <td>1940</td>\n",
                            "      <td>NaN</td>\n",
                            "      <td>92</td>\n",
                            "      <td>['comedy', 'drama', 'romance']</td>\n",
                            "      <td>['US']</td>\n",
                            "      <td>NaN</td>\n",
                            "      <td>tt0032599</td>\n",
                            "      <td>7.8</td>\n",
                            "      <td>57835.0</td>\n",
                            "      <td>11.270</td>\n",
                            "      <td>7.4</td>\n",
                            "    </tr>\n",
                            "    <tr>\n",
                            "      <th>4</th>\n",
                            "      <td>tm56584</td>\n",
                            "      <td>In a Lonely Place</td>\n",
                            "      <td>MOVIE</td>\n",
                            "      <td>An aspiring actress begins to suspect that her...</td>\n",
                            "      <td>1950</td>\n",
                            "      <td>NaN</td>\n",
                            "      <td>94</td>\n",
                            "      <td>['thriller', 'drama', 'romance']</td>\n",
                            "      <td>['US']</td>\n",
                            "      <td>NaN</td>\n",
                            "      <td>tt0042593</td>\n",
                            "      <td>7.9</td>\n",
                            "      <td>30924.0</td>\n",
                            "      <td>8.273</td>\n",
                            "      <td>7.6</td>\n",
                            "    </tr>\n",
                            "  </tbody>\n",
                            "</table>\n",
                            "</div>"
                        ],
                        "text/plain": [
                            "        id                        title   type  \\\n",
                            "0  ts20945            The Three Stooges   SHOW   \n",
                            "1  tm19248                  The General  MOVIE   \n",
                            "2  tm82253  The Best Years of Our Lives  MOVIE   \n",
                            "3  tm83884              His Girl Friday  MOVIE   \n",
                            "4  tm56584            In a Lonely Place  MOVIE   \n",
                            "\n",
                            "                                         description  release_year  \\\n",
                            "0  The Three Stooges were an American vaudeville ...          1934   \n",
                            "1  During America’s Civil War, Union spies steal ...          1926   \n",
                            "2  It's the hope that sustains the spirit of ever...          1946   \n",
                            "3  Hildy, the journalist former wife of newspaper...          1940   \n",
                            "4  An aspiring actress begins to suspect that her...          1950   \n",
                            "\n",
                            "  age_certification  runtime  \\\n",
                            "0             TV-PG       19   \n",
                            "1               NaN       78   \n",
                            "2               NaN      171   \n",
                            "3               NaN       92   \n",
                            "4               NaN       94   \n",
                            "\n",
                            "                                              genres production_countries  \\\n",
                            "0  ['comedy', 'family', 'animation', 'action', 'f...               ['US']   \n",
                            "1  ['action', 'drama', 'war', 'western', 'comedy'...               ['US']   \n",
                            "2                        ['romance', 'war', 'drama']               ['US']   \n",
                            "3                     ['comedy', 'drama', 'romance']               ['US']   \n",
                            "4                   ['thriller', 'drama', 'romance']               ['US']   \n",
                            "\n",
                            "   seasons    imdb_id  imdb_score  imdb_votes  tmdb_popularity  tmdb_score  \n",
                            "0     26.0  tt0850645         8.6      1092.0           15.424         7.6  \n",
                            "1      NaN  tt0017925         8.2     89766.0            8.647         8.0  \n",
                            "2      NaN  tt0036868         8.1     63026.0            8.435         7.8  \n",
                            "3      NaN  tt0032599         7.8     57835.0           11.270         7.4  \n",
                            "4      NaN  tt0042593         7.9     30924.0            8.273         7.6  "
                        ]
                    },
                    "execution_count": 9,
                    "metadata": {},
                    "output_type": "execute_result"
                }
            ],
            "source": [
                "Amazon_titles.head()"
            ]
        },
        {
            "cell_type": "code",
            "execution_count": 10,
            "metadata": {},
            "outputs": [
                {
                    "data": {
                        "text/plain": [
                            "id                         0\n",
                            "title                      0\n",
                            "type                       0\n",
                            "description              119\n",
                            "release_year               0\n",
                            "age_certification       6487\n",
                            "runtime                    0\n",
                            "genres                     0\n",
                            "production_countries       0\n",
                            "seasons                 8514\n",
                            "imdb_id                  667\n",
                            "imdb_score              1021\n",
                            "imdb_votes              1031\n",
                            "tmdb_popularity          547\n",
                            "tmdb_score              2082\n",
                            "dtype: int64"
                        ]
                    },
                    "execution_count": 10,
                    "metadata": {},
                    "output_type": "execute_result"
                }
            ],
            "source": [
                "Amazon_titles.isnull().sum() "
            ]
        },
        {
            "cell_type": "code",
            "execution_count": 11,
            "metadata": {},
            "outputs": [
                {
                    "name": "stdout",
                    "output_type": "stream",
                    "text": [
                        "<class 'pandas.core.frame.DataFrame'>\n",
                        "RangeIndex: 9871 entries, 0 to 9870\n",
                        "Data columns (total 15 columns):\n",
                        " #   Column                Non-Null Count  Dtype  \n",
                        "---  ------                --------------  -----  \n",
                        " 0   id                    9871 non-null   object \n",
                        " 1   title                 9871 non-null   object \n",
                        " 2   type                  9871 non-null   object \n",
                        " 3   description           9752 non-null   object \n",
                        " 4   release_year          9871 non-null   int64  \n",
                        " 5   age_certification     3384 non-null   object \n",
                        " 6   runtime               9871 non-null   int64  \n",
                        " 7   genres                9871 non-null   object \n",
                        " 8   production_countries  9871 non-null   object \n",
                        " 9   seasons               1357 non-null   float64\n",
                        " 10  imdb_id               9204 non-null   object \n",
                        " 11  imdb_score            8850 non-null   float64\n",
                        " 12  imdb_votes            8840 non-null   float64\n",
                        " 13  tmdb_popularity       9324 non-null   float64\n",
                        " 14  tmdb_score            7789 non-null   float64\n",
                        "dtypes: float64(5), int64(2), object(8)\n",
                        "memory usage: 1.1+ MB\n"
                    ]
                }
            ],
            "source": [
                "Amazon_titles.info()"
            ]
        },
        {
            "cell_type": "code",
            "execution_count": 12,
            "metadata": {},
            "outputs": [
                {
                    "data": {
                        "text/html": [
                            "<div>\n",
                            "<style scoped>\n",
                            "    .dataframe tbody tr th:only-of-type {\n",
                            "        vertical-align: middle;\n",
                            "    }\n",
                            "\n",
                            "    .dataframe tbody tr th {\n",
                            "        vertical-align: top;\n",
                            "    }\n",
                            "\n",
                            "    .dataframe thead th {\n",
                            "        text-align: right;\n",
                            "    }\n",
                            "</style>\n",
                            "<table border=\"1\" class=\"dataframe\">\n",
                            "  <thead>\n",
                            "    <tr style=\"text-align: right;\">\n",
                            "      <th></th>\n",
                            "      <th>person_id</th>\n",
                            "      <th>id</th>\n",
                            "      <th>name</th>\n",
                            "      <th>character</th>\n",
                            "      <th>role</th>\n",
                            "    </tr>\n",
                            "  </thead>\n",
                            "  <tbody>\n",
                            "    <tr>\n",
                            "      <th>0</th>\n",
                            "      <td>23433</td>\n",
                            "      <td>tm74391</td>\n",
                            "      <td>Deems Taylor</td>\n",
                            "      <td>Narrator - Narrative Introductions</td>\n",
                            "      <td>ACTOR</td>\n",
                            "    </tr>\n",
                            "    <tr>\n",
                            "      <th>1</th>\n",
                            "      <td>5910</td>\n",
                            "      <td>tm74391</td>\n",
                            "      <td>Walt Disney</td>\n",
                            "      <td>Mickey Mouse (segment 'The Sorcerer's Apprenti...</td>\n",
                            "      <td>ACTOR</td>\n",
                            "    </tr>\n",
                            "    <tr>\n",
                            "      <th>2</th>\n",
                            "      <td>23436</td>\n",
                            "      <td>tm74391</td>\n",
                            "      <td>Julietta Novis</td>\n",
                            "      <td>Soloist (segment 'Ave Maria') (singing voice)</td>\n",
                            "      <td>ACTOR</td>\n",
                            "    </tr>\n",
                            "    <tr>\n",
                            "      <th>3</th>\n",
                            "      <td>23434</td>\n",
                            "      <td>tm74391</td>\n",
                            "      <td>Leopold Stokowski</td>\n",
                            "      <td>Himself - Conductor of The Philadelphia Orchestra</td>\n",
                            "      <td>ACTOR</td>\n",
                            "    </tr>\n",
                            "    <tr>\n",
                            "      <th>4</th>\n",
                            "      <td>23441</td>\n",
                            "      <td>tm74391</td>\n",
                            "      <td>Paul Satterfield</td>\n",
                            "      <td>NaN</td>\n",
                            "      <td>DIRECTOR</td>\n",
                            "    </tr>\n",
                            "  </tbody>\n",
                            "</table>\n",
                            "</div>"
                        ],
                        "text/plain": [
                            "   person_id       id               name  \\\n",
                            "0      23433  tm74391       Deems Taylor   \n",
                            "1       5910  tm74391        Walt Disney   \n",
                            "2      23436  tm74391     Julietta Novis   \n",
                            "3      23434  tm74391  Leopold Stokowski   \n",
                            "4      23441  tm74391   Paul Satterfield   \n",
                            "\n",
                            "                                           character      role  \n",
                            "0                 Narrator - Narrative Introductions     ACTOR  \n",
                            "1  Mickey Mouse (segment 'The Sorcerer's Apprenti...     ACTOR  \n",
                            "2      Soloist (segment 'Ave Maria') (singing voice)     ACTOR  \n",
                            "3  Himself - Conductor of The Philadelphia Orchestra     ACTOR  \n",
                            "4                                                NaN  DIRECTOR  "
                        ]
                    },
                    "execution_count": 12,
                    "metadata": {},
                    "output_type": "execute_result"
                }
            ],
            "source": [
                "Disney_credits.head()"
            ]
        },
        {
            "cell_type": "code",
            "execution_count": 13,
            "metadata": {},
            "outputs": [
                {
                    "data": {
                        "text/plain": [
                            "person_id       0\n",
                            "id              0\n",
                            "name            0\n",
                            "character    1643\n",
                            "role            0\n",
                            "dtype: int64"
                        ]
                    },
                    "execution_count": 13,
                    "metadata": {},
                    "output_type": "execute_result"
                }
            ],
            "source": [
                "Disney_credits.isnull().sum() "
            ]
        },
        {
            "cell_type": "code",
            "execution_count": 14,
            "metadata": {},
            "outputs": [
                {
                    "data": {
                        "text/html": [
                            "<div>\n",
                            "<style scoped>\n",
                            "    .dataframe tbody tr th:only-of-type {\n",
                            "        vertical-align: middle;\n",
                            "    }\n",
                            "\n",
                            "    .dataframe tbody tr th {\n",
                            "        vertical-align: top;\n",
                            "    }\n",
                            "\n",
                            "    .dataframe thead th {\n",
                            "        text-align: right;\n",
                            "    }\n",
                            "</style>\n",
                            "<table border=\"1\" class=\"dataframe\">\n",
                            "  <thead>\n",
                            "    <tr style=\"text-align: right;\">\n",
                            "      <th></th>\n",
                            "      <th>release_year</th>\n",
                            "      <th>runtime</th>\n",
                            "      <th>seasons</th>\n",
                            "      <th>imdb_score</th>\n",
                            "      <th>imdb_votes</th>\n",
                            "      <th>tmdb_popularity</th>\n",
                            "      <th>tmdb_score</th>\n",
                            "    </tr>\n",
                            "  </thead>\n",
                            "  <tbody>\n",
                            "    <tr>\n",
                            "      <th>count</th>\n",
                            "      <td>1535.00</td>\n",
                            "      <td>1535.00</td>\n",
                            "      <td>415.00</td>\n",
                            "      <td>1108.00</td>\n",
                            "      <td>1105.00</td>\n",
                            "      <td>1524.00</td>\n",
                            "      <td>1426.00</td>\n",
                            "    </tr>\n",
                            "    <tr>\n",
                            "      <th>mean</th>\n",
                            "      <td>2003.58</td>\n",
                            "      <td>60.16</td>\n",
                            "      <td>2.58</td>\n",
                            "      <td>6.61</td>\n",
                            "      <td>76350.04</td>\n",
                            "      <td>40.24</td>\n",
                            "      <td>6.92</td>\n",
                            "    </tr>\n",
                            "    <tr>\n",
                            "      <th>std</th>\n",
                            "      <td>21.68</td>\n",
                            "      <td>39.90</td>\n",
                            "      <td>3.01</td>\n",
                            "      <td>1.07</td>\n",
                            "      <td>188589.31</td>\n",
                            "      <td>263.15</td>\n",
                            "      <td>1.02</td>\n",
                            "    </tr>\n",
                            "    <tr>\n",
                            "      <th>min</th>\n",
                            "      <td>1928.00</td>\n",
                            "      <td>1.00</td>\n",
                            "      <td>1.00</td>\n",
                            "      <td>1.60</td>\n",
                            "      <td>5.00</td>\n",
                            "      <td>0.60</td>\n",
                            "      <td>1.00</td>\n",
                            "    </tr>\n",
                            "    <tr>\n",
                            "      <th>25%</th>\n",
                            "      <td>1999.00</td>\n",
                            "      <td>23.00</td>\n",
                            "      <td>1.00</td>\n",
                            "      <td>5.90</td>\n",
                            "      <td>490.00</td>\n",
                            "      <td>3.87</td>\n",
                            "      <td>6.30</td>\n",
                            "    </tr>\n",
                            "    <tr>\n",
                            "      <th>50%</th>\n",
                            "      <td>2012.00</td>\n",
                            "      <td>53.00</td>\n",
                            "      <td>2.00</td>\n",
                            "      <td>6.60</td>\n",
                            "      <td>4219.00</td>\n",
                            "      <td>9.38</td>\n",
                            "      <td>6.90</td>\n",
                            "    </tr>\n",
                            "    <tr>\n",
                            "      <th>75%</th>\n",
                            "      <td>2019.00</td>\n",
                            "      <td>93.00</td>\n",
                            "      <td>3.00</td>\n",
                            "      <td>7.40</td>\n",
                            "      <td>41639.00</td>\n",
                            "      <td>25.44</td>\n",
                            "      <td>7.50</td>\n",
                            "    </tr>\n",
                            "    <tr>\n",
                            "      <th>max</th>\n",
                            "      <td>2022.00</td>\n",
                            "      <td>182.00</td>\n",
                            "      <td>34.00</td>\n",
                            "      <td>9.70</td>\n",
                            "      <td>1353907.00</td>\n",
                            "      <td>9323.83</td>\n",
                            "      <td>10.00</td>\n",
                            "    </tr>\n",
                            "  </tbody>\n",
                            "</table>\n",
                            "</div>"
                        ],
                        "text/plain": [
                            "       release_year  runtime  seasons  imdb_score  imdb_votes  \\\n",
                            "count       1535.00  1535.00   415.00     1108.00     1105.00   \n",
                            "mean        2003.58    60.16     2.58        6.61    76350.04   \n",
                            "std           21.68    39.90     3.01        1.07   188589.31   \n",
                            "min         1928.00     1.00     1.00        1.60        5.00   \n",
                            "25%         1999.00    23.00     1.00        5.90      490.00   \n",
                            "50%         2012.00    53.00     2.00        6.60     4219.00   \n",
                            "75%         2019.00    93.00     3.00        7.40    41639.00   \n",
                            "max         2022.00   182.00    34.00        9.70  1353907.00   \n",
                            "\n",
                            "       tmdb_popularity  tmdb_score  \n",
                            "count          1524.00     1426.00  \n",
                            "mean             40.24        6.92  \n",
                            "std             263.15        1.02  \n",
                            "min               0.60        1.00  \n",
                            "25%               3.87        6.30  \n",
                            "50%               9.38        6.90  \n",
                            "75%              25.44        7.50  \n",
                            "max            9323.83       10.00  "
                        ]
                    },
                    "execution_count": 14,
                    "metadata": {},
                    "output_type": "execute_result"
                }
            ],
            "source": [
                "Disney_titles.describe().round(2)"
            ]
        },
        {
            "cell_type": "markdown",
            "metadata": {},
            "source": [
                "Useful Disney titles info from describe:\n",
                "\n",
                "Median year: 2012 (Using this instead of mean because mean would skew lower.)  \n",
                "Min year: 1928  \n",
                "25% percentile: 1999  \n",
                "Max year: 2022  \n",
                "\n",
                "Runtimes are between 1 minute and 182 minutes (about 3 hours)  \n",
                "Mean runtime: 60 minutes(about 1 hour)  \n",
                "Median runtime: 53 minutes (about 1 hour)  \n",
                "\n",
                "Mean imdb score: 6.61  \n",
                "Median: 6.60  \n",
                "Min/max: 1.6 / 9.7  \n",
                "\n",
                "Mean imdb votes: 76350  \n",
                "Median votes: 4219  \n",
                "Min/max: 5 / 1353907  \n",
                "\n",
                "Mean tmdb score: 6.92  \n",
                "Median: 6.90  \n",
                "Min/max: 1 / 10  \n",
                "\n",
                "Mean tmdb popularity: 40.24  \n",
                "Median: 9.38  \n",
                "Min/max: 0.6 / 9323.83  "
            ]
        },
        {
            "cell_type": "code",
            "execution_count": 15,
            "metadata": {},
            "outputs": [
                {
                    "data": {
                        "text/html": [
                            "<div>\n",
                            "<style scoped>\n",
                            "    .dataframe tbody tr th:only-of-type {\n",
                            "        vertical-align: middle;\n",
                            "    }\n",
                            "\n",
                            "    .dataframe tbody tr th {\n",
                            "        vertical-align: top;\n",
                            "    }\n",
                            "\n",
                            "    .dataframe thead th {\n",
                            "        text-align: right;\n",
                            "    }\n",
                            "</style>\n",
                            "<table border=\"1\" class=\"dataframe\">\n",
                            "  <thead>\n",
                            "    <tr style=\"text-align: right;\">\n",
                            "      <th></th>\n",
                            "      <th>id</th>\n",
                            "      <th>title</th>\n",
                            "      <th>type</th>\n",
                            "      <th>description</th>\n",
                            "      <th>release_year</th>\n",
                            "      <th>age_certification</th>\n",
                            "      <th>runtime</th>\n",
                            "      <th>genres</th>\n",
                            "      <th>production_countries</th>\n",
                            "      <th>seasons</th>\n",
                            "      <th>imdb_id</th>\n",
                            "      <th>imdb_score</th>\n",
                            "      <th>imdb_votes</th>\n",
                            "      <th>tmdb_popularity</th>\n",
                            "      <th>tmdb_score</th>\n",
                            "    </tr>\n",
                            "  </thead>\n",
                            "  <tbody>\n",
                            "    <tr>\n",
                            "      <th>0</th>\n",
                            "      <td>tm74391</td>\n",
                            "      <td>Fantasia</td>\n",
                            "      <td>MOVIE</td>\n",
                            "      <td>Walt Disney's timeless masterpiece is an extra...</td>\n",
                            "      <td>1940</td>\n",
                            "      <td>G</td>\n",
                            "      <td>120</td>\n",
                            "      <td>['animation', 'family', 'music', 'fantasy']</td>\n",
                            "      <td>['US']</td>\n",
                            "      <td>NaN</td>\n",
                            "      <td>tt0032455</td>\n",
                            "      <td>7.7</td>\n",
                            "      <td>94681.0</td>\n",
                            "      <td>57.751</td>\n",
                            "      <td>7.4</td>\n",
                            "    </tr>\n",
                            "    <tr>\n",
                            "      <th>1</th>\n",
                            "      <td>tm67803</td>\n",
                            "      <td>Snow White and the Seven Dwarfs</td>\n",
                            "      <td>MOVIE</td>\n",
                            "      <td>A beautiful girl, Snow White, takes refuge in ...</td>\n",
                            "      <td>1937</td>\n",
                            "      <td>G</td>\n",
                            "      <td>83</td>\n",
                            "      <td>['fantasy', 'family', 'romance', 'animation', ...</td>\n",
                            "      <td>['US']</td>\n",
                            "      <td>NaN</td>\n",
                            "      <td>tt0029583</td>\n",
                            "      <td>7.6</td>\n",
                            "      <td>195321.0</td>\n",
                            "      <td>107.137</td>\n",
                            "      <td>7.1</td>\n",
                            "    </tr>\n",
                            "    <tr>\n",
                            "      <th>2</th>\n",
                            "      <td>tm82546</td>\n",
                            "      <td>Pinocchio</td>\n",
                            "      <td>MOVIE</td>\n",
                            "      <td>Lonely toymaker Geppetto has his wishes answer...</td>\n",
                            "      <td>1940</td>\n",
                            "      <td>G</td>\n",
                            "      <td>88</td>\n",
                            "      <td>['animation', 'comedy', 'family', 'fantasy']</td>\n",
                            "      <td>['US']</td>\n",
                            "      <td>NaN</td>\n",
                            "      <td>tt0032910</td>\n",
                            "      <td>7.5</td>\n",
                            "      <td>141937.0</td>\n",
                            "      <td>71.160</td>\n",
                            "      <td>7.1</td>\n",
                            "    </tr>\n",
                            "    <tr>\n",
                            "      <th>3</th>\n",
                            "      <td>tm79357</td>\n",
                            "      <td>Bambi</td>\n",
                            "      <td>MOVIE</td>\n",
                            "      <td>Bambi's tale unfolds from season to season as ...</td>\n",
                            "      <td>1942</td>\n",
                            "      <td>G</td>\n",
                            "      <td>70</td>\n",
                            "      <td>['animation', 'drama', 'family']</td>\n",
                            "      <td>['US']</td>\n",
                            "      <td>NaN</td>\n",
                            "      <td>tt0034492</td>\n",
                            "      <td>7.3</td>\n",
                            "      <td>140406.0</td>\n",
                            "      <td>68.136</td>\n",
                            "      <td>7.0</td>\n",
                            "    </tr>\n",
                            "    <tr>\n",
                            "      <th>4</th>\n",
                            "      <td>tm62671</td>\n",
                            "      <td>Treasure Island</td>\n",
                            "      <td>MOVIE</td>\n",
                            "      <td>Enchanted by the idea of locating treasure bur...</td>\n",
                            "      <td>1950</td>\n",
                            "      <td>PG</td>\n",
                            "      <td>96</td>\n",
                            "      <td>['family', 'action']</td>\n",
                            "      <td>['GB', 'US']</td>\n",
                            "      <td>NaN</td>\n",
                            "      <td>tt0043067</td>\n",
                            "      <td>6.9</td>\n",
                            "      <td>8229.0</td>\n",
                            "      <td>10.698</td>\n",
                            "      <td>6.5</td>\n",
                            "    </tr>\n",
                            "  </tbody>\n",
                            "</table>\n",
                            "</div>"
                        ],
                        "text/plain": [
                            "        id                            title   type  \\\n",
                            "0  tm74391                         Fantasia  MOVIE   \n",
                            "1  tm67803  Snow White and the Seven Dwarfs  MOVIE   \n",
                            "2  tm82546                        Pinocchio  MOVIE   \n",
                            "3  tm79357                            Bambi  MOVIE   \n",
                            "4  tm62671                  Treasure Island  MOVIE   \n",
                            "\n",
                            "                                         description  release_year  \\\n",
                            "0  Walt Disney's timeless masterpiece is an extra...          1940   \n",
                            "1  A beautiful girl, Snow White, takes refuge in ...          1937   \n",
                            "2  Lonely toymaker Geppetto has his wishes answer...          1940   \n",
                            "3  Bambi's tale unfolds from season to season as ...          1942   \n",
                            "4  Enchanted by the idea of locating treasure bur...          1950   \n",
                            "\n",
                            "  age_certification  runtime  \\\n",
                            "0                 G      120   \n",
                            "1                 G       83   \n",
                            "2                 G       88   \n",
                            "3                 G       70   \n",
                            "4                PG       96   \n",
                            "\n",
                            "                                              genres production_countries  \\\n",
                            "0        ['animation', 'family', 'music', 'fantasy']               ['US']   \n",
                            "1  ['fantasy', 'family', 'romance', 'animation', ...               ['US']   \n",
                            "2       ['animation', 'comedy', 'family', 'fantasy']               ['US']   \n",
                            "3                   ['animation', 'drama', 'family']               ['US']   \n",
                            "4                               ['family', 'action']         ['GB', 'US']   \n",
                            "\n",
                            "   seasons    imdb_id  imdb_score  imdb_votes  tmdb_popularity  tmdb_score  \n",
                            "0      NaN  tt0032455         7.7     94681.0           57.751         7.4  \n",
                            "1      NaN  tt0029583         7.6    195321.0          107.137         7.1  \n",
                            "2      NaN  tt0032910         7.5    141937.0           71.160         7.1  \n",
                            "3      NaN  tt0034492         7.3    140406.0           68.136         7.0  \n",
                            "4      NaN  tt0043067         6.9      8229.0           10.698         6.5  "
                        ]
                    },
                    "execution_count": 15,
                    "metadata": {},
                    "output_type": "execute_result"
                }
            ],
            "source": [
                "Disney_titles.head()"
            ]
        },
        {
            "cell_type": "code",
            "execution_count": 16,
            "metadata": {},
            "outputs": [
                {
                    "data": {
                        "text/plain": [
                            "id                         0\n",
                            "title                      0\n",
                            "type                       0\n",
                            "description                6\n",
                            "release_year               0\n",
                            "age_certification        325\n",
                            "runtime                    0\n",
                            "genres                     0\n",
                            "production_countries       0\n",
                            "seasons                 1120\n",
                            "imdb_id                  402\n",
                            "imdb_score               427\n",
                            "imdb_votes               430\n",
                            "tmdb_popularity           11\n",
                            "tmdb_score               109\n",
                            "dtype: int64"
                        ]
                    },
                    "execution_count": 16,
                    "metadata": {},
                    "output_type": "execute_result"
                }
            ],
            "source": [
                "Disney_titles.isnull().sum() "
            ]
        },
        {
            "cell_type": "code",
            "execution_count": 17,
            "metadata": {},
            "outputs": [
                {
                    "data": {
                        "text/html": [
                            "<div>\n",
                            "<style scoped>\n",
                            "    .dataframe tbody tr th:only-of-type {\n",
                            "        vertical-align: middle;\n",
                            "    }\n",
                            "\n",
                            "    .dataframe tbody tr th {\n",
                            "        vertical-align: top;\n",
                            "    }\n",
                            "\n",
                            "    .dataframe thead th {\n",
                            "        text-align: right;\n",
                            "    }\n",
                            "</style>\n",
                            "<table border=\"1\" class=\"dataframe\">\n",
                            "  <thead>\n",
                            "    <tr style=\"text-align: right;\">\n",
                            "      <th></th>\n",
                            "      <th>person_id</th>\n",
                            "      <th>id</th>\n",
                            "      <th>name</th>\n",
                            "      <th>character</th>\n",
                            "      <th>role</th>\n",
                            "    </tr>\n",
                            "  </thead>\n",
                            "  <tbody>\n",
                            "    <tr>\n",
                            "      <th>0</th>\n",
                            "      <td>60017</td>\n",
                            "      <td>tm155702</td>\n",
                            "      <td>Judy Garland</td>\n",
                            "      <td>Dorothy Gale</td>\n",
                            "      <td>ACTOR</td>\n",
                            "    </tr>\n",
                            "    <tr>\n",
                            "      <th>1</th>\n",
                            "      <td>53496</td>\n",
                            "      <td>tm155702</td>\n",
                            "      <td>Ray Bolger</td>\n",
                            "      <td>Hunk / Scarecrow</td>\n",
                            "      <td>ACTOR</td>\n",
                            "    </tr>\n",
                            "    <tr>\n",
                            "      <th>2</th>\n",
                            "      <td>79549</td>\n",
                            "      <td>tm155702</td>\n",
                            "      <td>Jack Haley</td>\n",
                            "      <td>Hickory / Tin Man</td>\n",
                            "      <td>ACTOR</td>\n",
                            "    </tr>\n",
                            "    <tr>\n",
                            "      <th>3</th>\n",
                            "      <td>79548</td>\n",
                            "      <td>tm155702</td>\n",
                            "      <td>Bert Lahr</td>\n",
                            "      <td>Zeke / Cowardly Lion</td>\n",
                            "      <td>ACTOR</td>\n",
                            "    </tr>\n",
                            "    <tr>\n",
                            "      <th>4</th>\n",
                            "      <td>60995</td>\n",
                            "      <td>tm155702</td>\n",
                            "      <td>Margaret Hamilton</td>\n",
                            "      <td>Elmira Gulch / Wicked Witch of the West</td>\n",
                            "      <td>ACTOR</td>\n",
                            "    </tr>\n",
                            "  </tbody>\n",
                            "</table>\n",
                            "</div>"
                        ],
                        "text/plain": [
                            "   person_id        id               name  \\\n",
                            "0      60017  tm155702       Judy Garland   \n",
                            "1      53496  tm155702         Ray Bolger   \n",
                            "2      79549  tm155702         Jack Haley   \n",
                            "3      79548  tm155702          Bert Lahr   \n",
                            "4      60995  tm155702  Margaret Hamilton   \n",
                            "\n",
                            "                                 character   role  \n",
                            "0                             Dorothy Gale  ACTOR  \n",
                            "1                         Hunk / Scarecrow  ACTOR  \n",
                            "2                        Hickory / Tin Man  ACTOR  \n",
                            "3                     Zeke / Cowardly Lion  ACTOR  \n",
                            "4  Elmira Gulch / Wicked Witch of the West  ACTOR  "
                        ]
                    },
                    "execution_count": 17,
                    "metadata": {},
                    "output_type": "execute_result"
                }
            ],
            "source": [
                "HBO_credits.head()"
            ]
        },
        {
            "cell_type": "code",
            "execution_count": 18,
            "metadata": {},
            "outputs": [
                {
                    "data": {
                        "text/plain": [
                            "person_id       0\n",
                            "id              0\n",
                            "name            0\n",
                            "character    4505\n",
                            "role            0\n",
                            "dtype: int64"
                        ]
                    },
                    "execution_count": 18,
                    "metadata": {},
                    "output_type": "execute_result"
                }
            ],
            "source": [
                "HBO_credits.isnull().sum() "
            ]
        },
        {
            "cell_type": "code",
            "execution_count": 19,
            "metadata": {},
            "outputs": [
                {
                    "data": {
                        "text/html": [
                            "<div>\n",
                            "<style scoped>\n",
                            "    .dataframe tbody tr th:only-of-type {\n",
                            "        vertical-align: middle;\n",
                            "    }\n",
                            "\n",
                            "    .dataframe tbody tr th {\n",
                            "        vertical-align: top;\n",
                            "    }\n",
                            "\n",
                            "    .dataframe thead th {\n",
                            "        text-align: right;\n",
                            "    }\n",
                            "</style>\n",
                            "<table border=\"1\" class=\"dataframe\">\n",
                            "  <thead>\n",
                            "    <tr style=\"text-align: right;\">\n",
                            "      <th></th>\n",
                            "      <th>release_year</th>\n",
                            "      <th>runtime</th>\n",
                            "      <th>seasons</th>\n",
                            "      <th>imdb_score</th>\n",
                            "      <th>imdb_votes</th>\n",
                            "      <th>tmdb_popularity</th>\n",
                            "      <th>tmdb_score</th>\n",
                            "    </tr>\n",
                            "  </thead>\n",
                            "  <tbody>\n",
                            "    <tr>\n",
                            "      <th>count</th>\n",
                            "      <td>3294.00</td>\n",
                            "      <td>3294.00</td>\n",
                            "      <td>756.00</td>\n",
                            "      <td>2922.00</td>\n",
                            "      <td>2911.00</td>\n",
                            "      <td>3261.00</td>\n",
                            "      <td>3026.00</td>\n",
                            "    </tr>\n",
                            "    <tr>\n",
                            "      <th>mean</th>\n",
                            "      <td>2001.19</td>\n",
                            "      <td>80.91</td>\n",
                            "      <td>3.00</td>\n",
                            "      <td>6.88</td>\n",
                            "      <td>64618.35</td>\n",
                            "      <td>21.11</td>\n",
                            "      <td>6.85</td>\n",
                            "    </tr>\n",
                            "    <tr>\n",
                            "      <th>std</th>\n",
                            "      <td>23.54</td>\n",
                            "      <td>38.48</td>\n",
                            "      <td>3.65</td>\n",
                            "      <td>1.06</td>\n",
                            "      <td>175461.67</td>\n",
                            "      <td>89.14</td>\n",
                            "      <td>1.08</td>\n",
                            "    </tr>\n",
                            "    <tr>\n",
                            "      <th>min</th>\n",
                            "      <td>1901.00</td>\n",
                            "      <td>1.00</td>\n",
                            "      <td>1.00</td>\n",
                            "      <td>1.50</td>\n",
                            "      <td>5.00</td>\n",
                            "      <td>0.05</td>\n",
                            "      <td>1.00</td>\n",
                            "    </tr>\n",
                            "    <tr>\n",
                            "      <th>25%</th>\n",
                            "      <td>1995.00</td>\n",
                            "      <td>51.25</td>\n",
                            "      <td>1.00</td>\n",
                            "      <td>6.30</td>\n",
                            "      <td>924.50</td>\n",
                            "      <td>3.45</td>\n",
                            "      <td>6.20</td>\n",
                            "    </tr>\n",
                            "    <tr>\n",
                            "      <th>50%</th>\n",
                            "      <td>2010.00</td>\n",
                            "      <td>89.00</td>\n",
                            "      <td>2.00</td>\n",
                            "      <td>7.00</td>\n",
                            "      <td>8071.00</td>\n",
                            "      <td>8.56</td>\n",
                            "      <td>6.90</td>\n",
                            "    </tr>\n",
                            "    <tr>\n",
                            "      <th>75%</th>\n",
                            "      <td>2018.00</td>\n",
                            "      <td>106.00</td>\n",
                            "      <td>4.00</td>\n",
                            "      <td>7.60</td>\n",
                            "      <td>47645.00</td>\n",
                            "      <td>17.71</td>\n",
                            "      <td>7.50</td>\n",
                            "    </tr>\n",
                            "    <tr>\n",
                            "      <th>max</th>\n",
                            "      <td>2022.00</td>\n",
                            "      <td>255.00</td>\n",
                            "      <td>52.00</td>\n",
                            "      <td>9.40</td>\n",
                            "      <td>2555504.00</td>\n",
                            "      <td>4447.89</td>\n",
                            "      <td>10.00</td>\n",
                            "    </tr>\n",
                            "  </tbody>\n",
                            "</table>\n",
                            "</div>"
                        ],
                        "text/plain": [
                            "       release_year  runtime  seasons  imdb_score  imdb_votes  \\\n",
                            "count       3294.00  3294.00   756.00     2922.00     2911.00   \n",
                            "mean        2001.19    80.91     3.00        6.88    64618.35   \n",
                            "std           23.54    38.48     3.65        1.06   175461.67   \n",
                            "min         1901.00     1.00     1.00        1.50        5.00   \n",
                            "25%         1995.00    51.25     1.00        6.30      924.50   \n",
                            "50%         2010.00    89.00     2.00        7.00     8071.00   \n",
                            "75%         2018.00   106.00     4.00        7.60    47645.00   \n",
                            "max         2022.00   255.00    52.00        9.40  2555504.00   \n",
                            "\n",
                            "       tmdb_popularity  tmdb_score  \n",
                            "count          3261.00     3026.00  \n",
                            "mean             21.11        6.85  \n",
                            "std              89.14        1.08  \n",
                            "min               0.05        1.00  \n",
                            "25%               3.45        6.20  \n",
                            "50%               8.56        6.90  \n",
                            "75%              17.71        7.50  \n",
                            "max            4447.89       10.00  "
                        ]
                    },
                    "execution_count": 19,
                    "metadata": {},
                    "output_type": "execute_result"
                }
            ],
            "source": [
                "HBO_titles.describe().round(2)"
            ]
        },
        {
            "cell_type": "markdown",
            "metadata": {},
            "source": [
                "Useful HBO titles info from describe:\n",
                "\n",
                "Median year: 2010 (Using this instead of mean because mean would skew lower.)  \n",
                "Min year: 1901  \n",
                "25% percentile: 1995  \n",
                "Max year: 2022  \n",
                "\n",
                "Runtimes are between 1 minute and 255 minutes (about 4.25 hours)  \n",
                "Mean runtime: 80 minutes(about 1.5 hours)  \n",
                "Median runtime: 89 minutes (about 1.5 hours)  \n",
                "\n",
                "Mean imdb score: 6.88  \n",
                "Median: 7.00  \n",
                "Min/max: 1.5 / 9.4  \n",
                "\n",
                "Mean imdb votes: 64618.35  \n",
                "Median votes: 8071  \n",
                "Min/max: 5 / 2555504  \n",
                "\n",
                "Mean tmdb score: 6.85  \n",
                "Median: 6.90  \n",
                "Min/max: 1 / 10  \n",
                "\n",
                "Mean tmdb popularity: 21.11  \n",
                "Median: 8.56  \n",
                "Min/max: 0.05 / 4447.89  "
            ]
        },
        {
            "cell_type": "code",
            "execution_count": 20,
            "metadata": {},
            "outputs": [
                {
                    "data": {
                        "text/html": [
                            "<div>\n",
                            "<style scoped>\n",
                            "    .dataframe tbody tr th:only-of-type {\n",
                            "        vertical-align: middle;\n",
                            "    }\n",
                            "\n",
                            "    .dataframe tbody tr th {\n",
                            "        vertical-align: top;\n",
                            "    }\n",
                            "\n",
                            "    .dataframe thead th {\n",
                            "        text-align: right;\n",
                            "    }\n",
                            "</style>\n",
                            "<table border=\"1\" class=\"dataframe\">\n",
                            "  <thead>\n",
                            "    <tr style=\"text-align: right;\">\n",
                            "      <th></th>\n",
                            "      <th>id</th>\n",
                            "      <th>title</th>\n",
                            "      <th>type</th>\n",
                            "      <th>description</th>\n",
                            "      <th>release_year</th>\n",
                            "      <th>age_certification</th>\n",
                            "      <th>runtime</th>\n",
                            "      <th>genres</th>\n",
                            "      <th>production_countries</th>\n",
                            "      <th>seasons</th>\n",
                            "      <th>imdb_id</th>\n",
                            "      <th>imdb_score</th>\n",
                            "      <th>imdb_votes</th>\n",
                            "      <th>tmdb_popularity</th>\n",
                            "      <th>tmdb_score</th>\n",
                            "    </tr>\n",
                            "  </thead>\n",
                            "  <tbody>\n",
                            "    <tr>\n",
                            "      <th>0</th>\n",
                            "      <td>tm155702</td>\n",
                            "      <td>The Wizard of Oz</td>\n",
                            "      <td>MOVIE</td>\n",
                            "      <td>Young Dorothy finds herself in a magical world...</td>\n",
                            "      <td>1939</td>\n",
                            "      <td>G</td>\n",
                            "      <td>102</td>\n",
                            "      <td>['fantasy', 'family']</td>\n",
                            "      <td>['US']</td>\n",
                            "      <td>NaN</td>\n",
                            "      <td>tt0032138</td>\n",
                            "      <td>8.1</td>\n",
                            "      <td>389774.0</td>\n",
                            "      <td>41.442</td>\n",
                            "      <td>7.6</td>\n",
                            "    </tr>\n",
                            "    <tr>\n",
                            "      <th>1</th>\n",
                            "      <td>tm83648</td>\n",
                            "      <td>Citizen Kane</td>\n",
                            "      <td>MOVIE</td>\n",
                            "      <td>Newspaper magnate, Charles Foster Kane is take...</td>\n",
                            "      <td>1941</td>\n",
                            "      <td>PG</td>\n",
                            "      <td>119</td>\n",
                            "      <td>['drama']</td>\n",
                            "      <td>['US']</td>\n",
                            "      <td>NaN</td>\n",
                            "      <td>tt0033467</td>\n",
                            "      <td>8.3</td>\n",
                            "      <td>433804.0</td>\n",
                            "      <td>14.383</td>\n",
                            "      <td>8.0</td>\n",
                            "    </tr>\n",
                            "    <tr>\n",
                            "      <th>2</th>\n",
                            "      <td>tm77588</td>\n",
                            "      <td>Casablanca</td>\n",
                            "      <td>MOVIE</td>\n",
                            "      <td>In Casablanca, Morocco in December 1941, a cyn...</td>\n",
                            "      <td>1942</td>\n",
                            "      <td>PG</td>\n",
                            "      <td>102</td>\n",
                            "      <td>['drama', 'romance', 'war']</td>\n",
                            "      <td>['US']</td>\n",
                            "      <td>NaN</td>\n",
                            "      <td>tt0034583</td>\n",
                            "      <td>8.5</td>\n",
                            "      <td>558849.0</td>\n",
                            "      <td>20.087</td>\n",
                            "      <td>8.2</td>\n",
                            "    </tr>\n",
                            "    <tr>\n",
                            "      <th>3</th>\n",
                            "      <td>tm82363</td>\n",
                            "      <td>The Big Sleep</td>\n",
                            "      <td>MOVIE</td>\n",
                            "      <td>Private Investigator Philip Marlowe is hired b...</td>\n",
                            "      <td>1946</td>\n",
                            "      <td>NaN</td>\n",
                            "      <td>116</td>\n",
                            "      <td>['thriller', 'crime']</td>\n",
                            "      <td>['US']</td>\n",
                            "      <td>NaN</td>\n",
                            "      <td>tt0038355</td>\n",
                            "      <td>7.9</td>\n",
                            "      <td>84494.0</td>\n",
                            "      <td>12.911</td>\n",
                            "      <td>7.7</td>\n",
                            "    </tr>\n",
                            "    <tr>\n",
                            "      <th>4</th>\n",
                            "      <td>tm84701</td>\n",
                            "      <td>The Maltese Falcon</td>\n",
                            "      <td>MOVIE</td>\n",
                            "      <td>A private detective takes on a case that invol...</td>\n",
                            "      <td>1941</td>\n",
                            "      <td>NaN</td>\n",
                            "      <td>100</td>\n",
                            "      <td>['thriller', 'romance', 'crime']</td>\n",
                            "      <td>['US']</td>\n",
                            "      <td>NaN</td>\n",
                            "      <td>tt0033870</td>\n",
                            "      <td>8.0</td>\n",
                            "      <td>156603.0</td>\n",
                            "      <td>12.788</td>\n",
                            "      <td>7.8</td>\n",
                            "    </tr>\n",
                            "  </tbody>\n",
                            "</table>\n",
                            "</div>"
                        ],
                        "text/plain": [
                            "         id               title   type  \\\n",
                            "0  tm155702    The Wizard of Oz  MOVIE   \n",
                            "1   tm83648        Citizen Kane  MOVIE   \n",
                            "2   tm77588          Casablanca  MOVIE   \n",
                            "3   tm82363       The Big Sleep  MOVIE   \n",
                            "4   tm84701  The Maltese Falcon  MOVIE   \n",
                            "\n",
                            "                                         description  release_year  \\\n",
                            "0  Young Dorothy finds herself in a magical world...          1939   \n",
                            "1  Newspaper magnate, Charles Foster Kane is take...          1941   \n",
                            "2  In Casablanca, Morocco in December 1941, a cyn...          1942   \n",
                            "3  Private Investigator Philip Marlowe is hired b...          1946   \n",
                            "4  A private detective takes on a case that invol...          1941   \n",
                            "\n",
                            "  age_certification  runtime                            genres  \\\n",
                            "0                 G      102             ['fantasy', 'family']   \n",
                            "1                PG      119                         ['drama']   \n",
                            "2                PG      102       ['drama', 'romance', 'war']   \n",
                            "3               NaN      116             ['thriller', 'crime']   \n",
                            "4               NaN      100  ['thriller', 'romance', 'crime']   \n",
                            "\n",
                            "  production_countries  seasons    imdb_id  imdb_score  imdb_votes  \\\n",
                            "0               ['US']      NaN  tt0032138         8.1    389774.0   \n",
                            "1               ['US']      NaN  tt0033467         8.3    433804.0   \n",
                            "2               ['US']      NaN  tt0034583         8.5    558849.0   \n",
                            "3               ['US']      NaN  tt0038355         7.9     84494.0   \n",
                            "4               ['US']      NaN  tt0033870         8.0    156603.0   \n",
                            "\n",
                            "   tmdb_popularity  tmdb_score  \n",
                            "0           41.442         7.6  \n",
                            "1           14.383         8.0  \n",
                            "2           20.087         8.2  \n",
                            "3           12.911         7.7  \n",
                            "4           12.788         7.8  "
                        ]
                    },
                    "execution_count": 20,
                    "metadata": {},
                    "output_type": "execute_result"
                }
            ],
            "source": [
                "HBO_titles.head()"
            ]
        },
        {
            "cell_type": "code",
            "execution_count": 21,
            "metadata": {},
            "outputs": [
                {
                    "data": {
                        "text/plain": [
                            "id                         0\n",
                            "title                      0\n",
                            "type                       0\n",
                            "description               12\n",
                            "release_year               0\n",
                            "age_certification       1208\n",
                            "runtime                    0\n",
                            "genres                     0\n",
                            "production_countries       0\n",
                            "seasons                 2538\n",
                            "imdb_id                  326\n",
                            "imdb_score               372\n",
                            "imdb_votes               383\n",
                            "tmdb_popularity           33\n",
                            "tmdb_score               268\n",
                            "dtype: int64"
                        ]
                    },
                    "execution_count": 21,
                    "metadata": {},
                    "output_type": "execute_result"
                }
            ],
            "source": [
                "HBO_titles.isnull().sum() "
            ]
        },
        {
            "cell_type": "code",
            "execution_count": 22,
            "metadata": {},
            "outputs": [
                {
                    "data": {
                        "text/html": [
                            "<div>\n",
                            "<style scoped>\n",
                            "    .dataframe tbody tr th:only-of-type {\n",
                            "        vertical-align: middle;\n",
                            "    }\n",
                            "\n",
                            "    .dataframe tbody tr th {\n",
                            "        vertical-align: top;\n",
                            "    }\n",
                            "\n",
                            "    .dataframe thead th {\n",
                            "        text-align: right;\n",
                            "    }\n",
                            "</style>\n",
                            "<table border=\"1\" class=\"dataframe\">\n",
                            "  <thead>\n",
                            "    <tr style=\"text-align: right;\">\n",
                            "      <th></th>\n",
                            "      <th>person_id</th>\n",
                            "      <th>id</th>\n",
                            "      <th>name</th>\n",
                            "      <th>character</th>\n",
                            "      <th>role</th>\n",
                            "    </tr>\n",
                            "  </thead>\n",
                            "  <tbody>\n",
                            "    <tr>\n",
                            "      <th>0</th>\n",
                            "      <td>85144</td>\n",
                            "      <td>ts20475</td>\n",
                            "      <td>Aidy Bryant</td>\n",
                            "      <td>Self - Various Characters</td>\n",
                            "      <td>ACTOR</td>\n",
                            "    </tr>\n",
                            "    <tr>\n",
                            "      <th>1</th>\n",
                            "      <td>85141</td>\n",
                            "      <td>ts20475</td>\n",
                            "      <td>Michael Che</td>\n",
                            "      <td>Self - Various Characters</td>\n",
                            "      <td>ACTOR</td>\n",
                            "    </tr>\n",
                            "    <tr>\n",
                            "      <th>2</th>\n",
                            "      <td>87723</td>\n",
                            "      <td>ts20475</td>\n",
                            "      <td>Pete Davidson</td>\n",
                            "      <td>Self - Various Characters</td>\n",
                            "      <td>ACTOR</td>\n",
                            "    </tr>\n",
                            "    <tr>\n",
                            "      <th>3</th>\n",
                            "      <td>99154</td>\n",
                            "      <td>ts20475</td>\n",
                            "      <td>Mikey Day</td>\n",
                            "      <td>Self - Various Characters</td>\n",
                            "      <td>ACTOR</td>\n",
                            "    </tr>\n",
                            "    <tr>\n",
                            "      <th>4</th>\n",
                            "      <td>26921</td>\n",
                            "      <td>ts20475</td>\n",
                            "      <td>Colin Jost</td>\n",
                            "      <td>Self - Various Characters</td>\n",
                            "      <td>ACTOR</td>\n",
                            "    </tr>\n",
                            "  </tbody>\n",
                            "</table>\n",
                            "</div>"
                        ],
                        "text/plain": [
                            "   person_id       id           name                  character   role\n",
                            "0      85144  ts20475    Aidy Bryant  Self - Various Characters  ACTOR\n",
                            "1      85141  ts20475    Michael Che  Self - Various Characters  ACTOR\n",
                            "2      87723  ts20475  Pete Davidson  Self - Various Characters  ACTOR\n",
                            "3      99154  ts20475      Mikey Day  Self - Various Characters  ACTOR\n",
                            "4      26921  ts20475     Colin Jost  Self - Various Characters  ACTOR"
                        ]
                    },
                    "execution_count": 22,
                    "metadata": {},
                    "output_type": "execute_result"
                }
            ],
            "source": [
                "Hulu_credits.head()"
            ]
        },
        {
            "cell_type": "code",
            "execution_count": 23,
            "metadata": {},
            "outputs": [
                {
                    "data": {
                        "text/plain": [
                            "person_id       0\n",
                            "id              0\n",
                            "name            0\n",
                            "character    2226\n",
                            "role            0\n",
                            "dtype: int64"
                        ]
                    },
                    "execution_count": 23,
                    "metadata": {},
                    "output_type": "execute_result"
                }
            ],
            "source": [
                "Hulu_credits.isnull().sum() "
            ]
        },
        {
            "cell_type": "code",
            "execution_count": 24,
            "metadata": {},
            "outputs": [
                {
                    "data": {
                        "text/html": [
                            "<div>\n",
                            "<style scoped>\n",
                            "    .dataframe tbody tr th:only-of-type {\n",
                            "        vertical-align: middle;\n",
                            "    }\n",
                            "\n",
                            "    .dataframe tbody tr th {\n",
                            "        vertical-align: top;\n",
                            "    }\n",
                            "\n",
                            "    .dataframe thead th {\n",
                            "        text-align: right;\n",
                            "    }\n",
                            "</style>\n",
                            "<table border=\"1\" class=\"dataframe\">\n",
                            "  <thead>\n",
                            "    <tr style=\"text-align: right;\">\n",
                            "      <th></th>\n",
                            "      <th>release_year</th>\n",
                            "      <th>runtime</th>\n",
                            "      <th>seasons</th>\n",
                            "      <th>imdb_score</th>\n",
                            "      <th>imdb_votes</th>\n",
                            "      <th>tmdb_popularity</th>\n",
                            "      <th>tmdb_score</th>\n",
                            "    </tr>\n",
                            "  </thead>\n",
                            "  <tbody>\n",
                            "    <tr>\n",
                            "      <th>count</th>\n",
                            "      <td>2398.00</td>\n",
                            "      <td>2398.00</td>\n",
                            "      <td>1330.00</td>\n",
                            "      <td>2232.00</td>\n",
                            "      <td>2231.00</td>\n",
                            "      <td>2348.00</td>\n",
                            "      <td>2238.00</td>\n",
                            "    </tr>\n",
                            "    <tr>\n",
                            "      <th>mean</th>\n",
                            "      <td>2013.42</td>\n",
                            "      <td>61.52</td>\n",
                            "      <td>3.94</td>\n",
                            "      <td>6.70</td>\n",
                            "      <td>28286.88</td>\n",
                            "      <td>27.87</td>\n",
                            "      <td>6.89</td>\n",
                            "    </tr>\n",
                            "    <tr>\n",
                            "      <th>std</th>\n",
                            "      <td>8.48</td>\n",
                            "      <td>35.10</td>\n",
                            "      <td>5.02</td>\n",
                            "      <td>1.21</td>\n",
                            "      <td>78020.10</td>\n",
                            "      <td>92.00</td>\n",
                            "      <td>1.22</td>\n",
                            "    </tr>\n",
                            "    <tr>\n",
                            "      <th>min</th>\n",
                            "      <td>1951.00</td>\n",
                            "      <td>0.00</td>\n",
                            "      <td>1.00</td>\n",
                            "      <td>1.00</td>\n",
                            "      <td>5.00</td>\n",
                            "      <td>0.27</td>\n",
                            "      <td>1.00</td>\n",
                            "    </tr>\n",
                            "    <tr>\n",
                            "      <th>25%</th>\n",
                            "      <td>2010.00</td>\n",
                            "      <td>25.00</td>\n",
                            "      <td>1.00</td>\n",
                            "      <td>5.90</td>\n",
                            "      <td>621.50</td>\n",
                            "      <td>4.79</td>\n",
                            "      <td>6.10</td>\n",
                            "    </tr>\n",
                            "    <tr>\n",
                            "      <th>50%</th>\n",
                            "      <td>2016.00</td>\n",
                            "      <td>48.00</td>\n",
                            "      <td>2.00</td>\n",
                            "      <td>6.80</td>\n",
                            "      <td>3451.00</td>\n",
                            "      <td>10.70</td>\n",
                            "      <td>7.00</td>\n",
                            "    </tr>\n",
                            "    <tr>\n",
                            "      <th>75%</th>\n",
                            "      <td>2019.00</td>\n",
                            "      <td>93.00</td>\n",
                            "      <td>5.00</td>\n",
                            "      <td>7.60</td>\n",
                            "      <td>17056.00</td>\n",
                            "      <td>23.91</td>\n",
                            "      <td>7.70</td>\n",
                            "    </tr>\n",
                            "    <tr>\n",
                            "      <th>max</th>\n",
                            "      <td>2022.00</td>\n",
                            "      <td>229.00</td>\n",
                            "      <td>63.00</td>\n",
                            "      <td>9.50</td>\n",
                            "      <td>996056.00</td>\n",
                            "      <td>2989.85</td>\n",
                            "      <td>10.00</td>\n",
                            "    </tr>\n",
                            "  </tbody>\n",
                            "</table>\n",
                            "</div>"
                        ],
                        "text/plain": [
                            "       release_year  runtime  seasons  imdb_score  imdb_votes  \\\n",
                            "count       2398.00  2398.00  1330.00     2232.00     2231.00   \n",
                            "mean        2013.42    61.52     3.94        6.70    28286.88   \n",
                            "std            8.48    35.10     5.02        1.21    78020.10   \n",
                            "min         1951.00     0.00     1.00        1.00        5.00   \n",
                            "25%         2010.00    25.00     1.00        5.90      621.50   \n",
                            "50%         2016.00    48.00     2.00        6.80     3451.00   \n",
                            "75%         2019.00    93.00     5.00        7.60    17056.00   \n",
                            "max         2022.00   229.00    63.00        9.50   996056.00   \n",
                            "\n",
                            "       tmdb_popularity  tmdb_score  \n",
                            "count          2348.00     2238.00  \n",
                            "mean             27.87        6.89  \n",
                            "std              92.00        1.22  \n",
                            "min               0.27        1.00  \n",
                            "25%               4.79        6.10  \n",
                            "50%              10.70        7.00  \n",
                            "75%              23.91        7.70  \n",
                            "max            2989.85       10.00  "
                        ]
                    },
                    "execution_count": 24,
                    "metadata": {},
                    "output_type": "execute_result"
                }
            ],
            "source": [
                "Hulu_titles.describe().round(2)"
            ]
        },
        {
            "cell_type": "markdown",
            "metadata": {},
            "source": [
                "Useful Hulu titles info from describe:\n",
                "\n",
                "Median year: 2016 (Using this instead of mean because mean would skew lower.)  \n",
                "Min year: 1951  \n",
                "25% percentile: 2010  \n",
                "Max year: 2022  \n",
                "\n",
                "Runtimes are between 0 minute and 229 minutes (about 4 hours)  \n",
                "Mean runtime: 61.52 minutes(about 1 hour)  \n",
                "Median runtime: 48 minutes (about .75 hours)  \n",
                "\n",
                "Mean imdb score: 6.7  \n",
                "Median: 6.8  \n",
                "Min/max: 1 / 9.5  \n",
                "\n",
                "Mean imdb votes: 28286.88  \n",
                "Median votes: 3451  \n",
                "Min/max: 5 / 996056  \n",
                "\n",
                "Mean tmdb score: 6.89  \n",
                "Median: 7  \n",
                "Min/max: 1 / 10  \n",
                "\n",
                "Mean tmdb popularity: 27.87  \n",
                "Median: 10.7  \n",
                "Min/max: .27 / 2989.85  "
            ]
        },
        {
            "cell_type": "code",
            "execution_count": 25,
            "metadata": {},
            "outputs": [
                {
                    "data": {
                        "text/html": [
                            "<div>\n",
                            "<style scoped>\n",
                            "    .dataframe tbody tr th:only-of-type {\n",
                            "        vertical-align: middle;\n",
                            "    }\n",
                            "\n",
                            "    .dataframe tbody tr th {\n",
                            "        vertical-align: top;\n",
                            "    }\n",
                            "\n",
                            "    .dataframe thead th {\n",
                            "        text-align: right;\n",
                            "    }\n",
                            "</style>\n",
                            "<table border=\"1\" class=\"dataframe\">\n",
                            "  <thead>\n",
                            "    <tr style=\"text-align: right;\">\n",
                            "      <th></th>\n",
                            "      <th>id</th>\n",
                            "      <th>title</th>\n",
                            "      <th>type</th>\n",
                            "      <th>description</th>\n",
                            "      <th>release_year</th>\n",
                            "      <th>age_certification</th>\n",
                            "      <th>runtime</th>\n",
                            "      <th>genres</th>\n",
                            "      <th>production_countries</th>\n",
                            "      <th>seasons</th>\n",
                            "      <th>imdb_id</th>\n",
                            "      <th>imdb_score</th>\n",
                            "      <th>imdb_votes</th>\n",
                            "      <th>tmdb_popularity</th>\n",
                            "      <th>tmdb_score</th>\n",
                            "    </tr>\n",
                            "  </thead>\n",
                            "  <tbody>\n",
                            "    <tr>\n",
                            "      <th>0</th>\n",
                            "      <td>ts20475</td>\n",
                            "      <td>Saturday Night Live</td>\n",
                            "      <td>SHOW</td>\n",
                            "      <td>A late-night live television sketch comedy and...</td>\n",
                            "      <td>1975</td>\n",
                            "      <td>TV-14</td>\n",
                            "      <td>89</td>\n",
                            "      <td>['music', 'comedy']</td>\n",
                            "      <td>['US']</td>\n",
                            "      <td>47.0</td>\n",
                            "      <td>tt0072562</td>\n",
                            "      <td>8.0</td>\n",
                            "      <td>47910.0</td>\n",
                            "      <td>54.345</td>\n",
                            "      <td>6.9</td>\n",
                            "    </tr>\n",
                            "    <tr>\n",
                            "      <th>1</th>\n",
                            "      <td>ts20413</td>\n",
                            "      <td>M*A*S*H</td>\n",
                            "      <td>SHOW</td>\n",
                            "      <td>The 4077th Mobile Army Surgical Hospital is st...</td>\n",
                            "      <td>1972</td>\n",
                            "      <td>TV-PG</td>\n",
                            "      <td>26</td>\n",
                            "      <td>['war', 'comedy', 'drama']</td>\n",
                            "      <td>['US']</td>\n",
                            "      <td>11.0</td>\n",
                            "      <td>tt0068098</td>\n",
                            "      <td>8.4</td>\n",
                            "      <td>55882.0</td>\n",
                            "      <td>27.308</td>\n",
                            "      <td>8.0</td>\n",
                            "    </tr>\n",
                            "    <tr>\n",
                            "      <th>2</th>\n",
                            "      <td>ts20005</td>\n",
                            "      <td>I Love Lucy</td>\n",
                            "      <td>SHOW</td>\n",
                            "      <td>Cuban Bandleader Ricky Ricardo would be happy ...</td>\n",
                            "      <td>1951</td>\n",
                            "      <td>TV-G</td>\n",
                            "      <td>30</td>\n",
                            "      <td>['comedy', 'family']</td>\n",
                            "      <td>['US']</td>\n",
                            "      <td>9.0</td>\n",
                            "      <td>tt0043208</td>\n",
                            "      <td>8.5</td>\n",
                            "      <td>25944.0</td>\n",
                            "      <td>17.088</td>\n",
                            "      <td>8.1</td>\n",
                            "    </tr>\n",
                            "    <tr>\n",
                            "      <th>3</th>\n",
                            "      <td>ts20669</td>\n",
                            "      <td>Taxi</td>\n",
                            "      <td>SHOW</td>\n",
                            "      <td>Louie De Palma is a cantankerous, acerbic taxi...</td>\n",
                            "      <td>1978</td>\n",
                            "      <td>TV-PG</td>\n",
                            "      <td>25</td>\n",
                            "      <td>['drama', 'comedy']</td>\n",
                            "      <td>['US']</td>\n",
                            "      <td>5.0</td>\n",
                            "      <td>tt0077089</td>\n",
                            "      <td>7.7</td>\n",
                            "      <td>13379.0</td>\n",
                            "      <td>14.346</td>\n",
                            "      <td>7.3</td>\n",
                            "    </tr>\n",
                            "    <tr>\n",
                            "      <th>4</th>\n",
                            "      <td>ts21049</td>\n",
                            "      <td>The Mary Tyler Moore Show</td>\n",
                            "      <td>SHOW</td>\n",
                            "      <td>30-year-old single Mary Richards moves to Minn...</td>\n",
                            "      <td>1970</td>\n",
                            "      <td>TV-PG</td>\n",
                            "      <td>28</td>\n",
                            "      <td>['comedy']</td>\n",
                            "      <td>['US']</td>\n",
                            "      <td>7.0</td>\n",
                            "      <td>tt0065314</td>\n",
                            "      <td>8.2</td>\n",
                            "      <td>8692.0</td>\n",
                            "      <td>9.290</td>\n",
                            "      <td>7.5</td>\n",
                            "    </tr>\n",
                            "  </tbody>\n",
                            "</table>\n",
                            "</div>"
                        ],
                        "text/plain": [
                            "        id                      title  type  \\\n",
                            "0  ts20475        Saturday Night Live  SHOW   \n",
                            "1  ts20413                    M*A*S*H  SHOW   \n",
                            "2  ts20005                I Love Lucy  SHOW   \n",
                            "3  ts20669                       Taxi  SHOW   \n",
                            "4  ts21049  The Mary Tyler Moore Show  SHOW   \n",
                            "\n",
                            "                                         description  release_year  \\\n",
                            "0  A late-night live television sketch comedy and...          1975   \n",
                            "1  The 4077th Mobile Army Surgical Hospital is st...          1972   \n",
                            "2  Cuban Bandleader Ricky Ricardo would be happy ...          1951   \n",
                            "3  Louie De Palma is a cantankerous, acerbic taxi...          1978   \n",
                            "4  30-year-old single Mary Richards moves to Minn...          1970   \n",
                            "\n",
                            "  age_certification  runtime                      genres production_countries  \\\n",
                            "0             TV-14       89         ['music', 'comedy']               ['US']   \n",
                            "1             TV-PG       26  ['war', 'comedy', 'drama']               ['US']   \n",
                            "2              TV-G       30        ['comedy', 'family']               ['US']   \n",
                            "3             TV-PG       25         ['drama', 'comedy']               ['US']   \n",
                            "4             TV-PG       28                  ['comedy']               ['US']   \n",
                            "\n",
                            "   seasons    imdb_id  imdb_score  imdb_votes  tmdb_popularity  tmdb_score  \n",
                            "0     47.0  tt0072562         8.0     47910.0           54.345         6.9  \n",
                            "1     11.0  tt0068098         8.4     55882.0           27.308         8.0  \n",
                            "2      9.0  tt0043208         8.5     25944.0           17.088         8.1  \n",
                            "3      5.0  tt0077089         7.7     13379.0           14.346         7.3  \n",
                            "4      7.0  tt0065314         8.2      8692.0            9.290         7.5  "
                        ]
                    },
                    "execution_count": 25,
                    "metadata": {},
                    "output_type": "execute_result"
                }
            ],
            "source": [
                "Hulu_titles.head()"
            ]
        },
        {
            "cell_type": "code",
            "execution_count": 26,
            "metadata": {},
            "outputs": [
                {
                    "data": {
                        "text/plain": [
                            "id                         0\n",
                            "title                      0\n",
                            "type                       0\n",
                            "description               13\n",
                            "release_year               0\n",
                            "age_certification        685\n",
                            "runtime                    0\n",
                            "genres                     0\n",
                            "production_countries       0\n",
                            "seasons                 1068\n",
                            "imdb_id                  135\n",
                            "imdb_score               166\n",
                            "imdb_votes               167\n",
                            "tmdb_popularity           50\n",
                            "tmdb_score               160\n",
                            "dtype: int64"
                        ]
                    },
                    "execution_count": 26,
                    "metadata": {},
                    "output_type": "execute_result"
                }
            ],
            "source": [
                "Hulu_titles.isnull().sum() "
            ]
        },
        {
            "cell_type": "code",
            "execution_count": 27,
            "metadata": {},
            "outputs": [
                {
                    "data": {
                        "text/html": [
                            "<div>\n",
                            "<style scoped>\n",
                            "    .dataframe tbody tr th:only-of-type {\n",
                            "        vertical-align: middle;\n",
                            "    }\n",
                            "\n",
                            "    .dataframe tbody tr th {\n",
                            "        vertical-align: top;\n",
                            "    }\n",
                            "\n",
                            "    .dataframe thead th {\n",
                            "        text-align: right;\n",
                            "    }\n",
                            "</style>\n",
                            "<table border=\"1\" class=\"dataframe\">\n",
                            "  <thead>\n",
                            "    <tr style=\"text-align: right;\">\n",
                            "      <th></th>\n",
                            "      <th>person_id</th>\n",
                            "      <th>id</th>\n",
                            "      <th>name</th>\n",
                            "      <th>character</th>\n",
                            "      <th>role</th>\n",
                            "    </tr>\n",
                            "  </thead>\n",
                            "  <tbody>\n",
                            "    <tr>\n",
                            "      <th>0</th>\n",
                            "      <td>3748</td>\n",
                            "      <td>tm84618</td>\n",
                            "      <td>Robert De Niro</td>\n",
                            "      <td>Travis Bickle</td>\n",
                            "      <td>ACTOR</td>\n",
                            "    </tr>\n",
                            "    <tr>\n",
                            "      <th>1</th>\n",
                            "      <td>14658</td>\n",
                            "      <td>tm84618</td>\n",
                            "      <td>Jodie Foster</td>\n",
                            "      <td>Iris Steensma</td>\n",
                            "      <td>ACTOR</td>\n",
                            "    </tr>\n",
                            "    <tr>\n",
                            "      <th>2</th>\n",
                            "      <td>7064</td>\n",
                            "      <td>tm84618</td>\n",
                            "      <td>Albert Brooks</td>\n",
                            "      <td>Tom</td>\n",
                            "      <td>ACTOR</td>\n",
                            "    </tr>\n",
                            "    <tr>\n",
                            "      <th>3</th>\n",
                            "      <td>3739</td>\n",
                            "      <td>tm84618</td>\n",
                            "      <td>Harvey Keitel</td>\n",
                            "      <td>Matthew 'Sport' Higgins</td>\n",
                            "      <td>ACTOR</td>\n",
                            "    </tr>\n",
                            "    <tr>\n",
                            "      <th>4</th>\n",
                            "      <td>48933</td>\n",
                            "      <td>tm84618</td>\n",
                            "      <td>Cybill Shepherd</td>\n",
                            "      <td>Betsy</td>\n",
                            "      <td>ACTOR</td>\n",
                            "    </tr>\n",
                            "  </tbody>\n",
                            "</table>\n",
                            "</div>"
                        ],
                        "text/plain": [
                            "   person_id       id             name                character   role\n",
                            "0       3748  tm84618   Robert De Niro            Travis Bickle  ACTOR\n",
                            "1      14658  tm84618     Jodie Foster            Iris Steensma  ACTOR\n",
                            "2       7064  tm84618    Albert Brooks                      Tom  ACTOR\n",
                            "3       3739  tm84618    Harvey Keitel  Matthew 'Sport' Higgins  ACTOR\n",
                            "4      48933  tm84618  Cybill Shepherd                    Betsy  ACTOR"
                        ]
                    },
                    "execution_count": 27,
                    "metadata": {},
                    "output_type": "execute_result"
                }
            ],
            "source": [
                "Netflix_credits.head()"
            ]
        },
        {
            "cell_type": "code",
            "execution_count": 28,
            "metadata": {},
            "outputs": [
                {
                    "data": {
                        "text/plain": [
                            "person_id       0\n",
                            "id              0\n",
                            "name            0\n",
                            "character    9627\n",
                            "role            0\n",
                            "dtype: int64"
                        ]
                    },
                    "execution_count": 28,
                    "metadata": {},
                    "output_type": "execute_result"
                }
            ],
            "source": [
                "Netflix_credits.isnull().sum() "
            ]
        },
        {
            "cell_type": "code",
            "execution_count": 29,
            "metadata": {},
            "outputs": [
                {
                    "data": {
                        "text/html": [
                            "<div>\n",
                            "<style scoped>\n",
                            "    .dataframe tbody tr th:only-of-type {\n",
                            "        vertical-align: middle;\n",
                            "    }\n",
                            "\n",
                            "    .dataframe tbody tr th {\n",
                            "        vertical-align: top;\n",
                            "    }\n",
                            "\n",
                            "    .dataframe thead th {\n",
                            "        text-align: right;\n",
                            "    }\n",
                            "</style>\n",
                            "<table border=\"1\" class=\"dataframe\">\n",
                            "  <thead>\n",
                            "    <tr style=\"text-align: right;\">\n",
                            "      <th></th>\n",
                            "      <th>release_year</th>\n",
                            "      <th>runtime</th>\n",
                            "      <th>seasons</th>\n",
                            "      <th>imdb_score</th>\n",
                            "      <th>imdb_votes</th>\n",
                            "      <th>tmdb_popularity</th>\n",
                            "      <th>tmdb_score</th>\n",
                            "    </tr>\n",
                            "  </thead>\n",
                            "  <tbody>\n",
                            "    <tr>\n",
                            "      <th>count</th>\n",
                            "      <td>5806.00</td>\n",
                            "      <td>5806.00</td>\n",
                            "      <td>2047.00</td>\n",
                            "      <td>5283.00</td>\n",
                            "      <td>5267.00</td>\n",
                            "      <td>5712.00</td>\n",
                            "      <td>5488.00</td>\n",
                            "    </tr>\n",
                            "    <tr>\n",
                            "      <th>mean</th>\n",
                            "      <td>2016.01</td>\n",
                            "      <td>77.64</td>\n",
                            "      <td>2.17</td>\n",
                            "      <td>6.53</td>\n",
                            "      <td>23407.19</td>\n",
                            "      <td>22.53</td>\n",
                            "      <td>6.82</td>\n",
                            "    </tr>\n",
                            "    <tr>\n",
                            "      <th>std</th>\n",
                            "      <td>7.32</td>\n",
                            "      <td>39.47</td>\n",
                            "      <td>2.64</td>\n",
                            "      <td>1.16</td>\n",
                            "      <td>87134.32</td>\n",
                            "      <td>68.85</td>\n",
                            "      <td>1.17</td>\n",
                            "    </tr>\n",
                            "    <tr>\n",
                            "      <th>min</th>\n",
                            "      <td>1945.00</td>\n",
                            "      <td>0.00</td>\n",
                            "      <td>1.00</td>\n",
                            "      <td>1.50</td>\n",
                            "      <td>5.00</td>\n",
                            "      <td>0.01</td>\n",
                            "      <td>0.50</td>\n",
                            "    </tr>\n",
                            "    <tr>\n",
                            "      <th>25%</th>\n",
                            "      <td>2015.00</td>\n",
                            "      <td>44.00</td>\n",
                            "      <td>1.00</td>\n",
                            "      <td>5.80</td>\n",
                            "      <td>521.00</td>\n",
                            "      <td>3.16</td>\n",
                            "      <td>6.10</td>\n",
                            "    </tr>\n",
                            "    <tr>\n",
                            "      <th>50%</th>\n",
                            "      <td>2018.00</td>\n",
                            "      <td>84.00</td>\n",
                            "      <td>1.00</td>\n",
                            "      <td>6.60</td>\n",
                            "      <td>2279.00</td>\n",
                            "      <td>7.48</td>\n",
                            "      <td>6.90</td>\n",
                            "    </tr>\n",
                            "    <tr>\n",
                            "      <th>75%</th>\n",
                            "      <td>2020.00</td>\n",
                            "      <td>105.00</td>\n",
                            "      <td>2.00</td>\n",
                            "      <td>7.40</td>\n",
                            "      <td>10144.00</td>\n",
                            "      <td>17.78</td>\n",
                            "      <td>7.50</td>\n",
                            "    </tr>\n",
                            "    <tr>\n",
                            "      <th>max</th>\n",
                            "      <td>2022.00</td>\n",
                            "      <td>251.00</td>\n",
                            "      <td>42.00</td>\n",
                            "      <td>9.60</td>\n",
                            "      <td>2268288.00</td>\n",
                            "      <td>1823.37</td>\n",
                            "      <td>10.00</td>\n",
                            "    </tr>\n",
                            "  </tbody>\n",
                            "</table>\n",
                            "</div>"
                        ],
                        "text/plain": [
                            "       release_year  runtime  seasons  imdb_score  imdb_votes  \\\n",
                            "count       5806.00  5806.00  2047.00     5283.00     5267.00   \n",
                            "mean        2016.01    77.64     2.17        6.53    23407.19   \n",
                            "std            7.32    39.47     2.64        1.16    87134.32   \n",
                            "min         1945.00     0.00     1.00        1.50        5.00   \n",
                            "25%         2015.00    44.00     1.00        5.80      521.00   \n",
                            "50%         2018.00    84.00     1.00        6.60     2279.00   \n",
                            "75%         2020.00   105.00     2.00        7.40    10144.00   \n",
                            "max         2022.00   251.00    42.00        9.60  2268288.00   \n",
                            "\n",
                            "       tmdb_popularity  tmdb_score  \n",
                            "count          5712.00     5488.00  \n",
                            "mean             22.53        6.82  \n",
                            "std              68.85        1.17  \n",
                            "min               0.01        0.50  \n",
                            "25%               3.16        6.10  \n",
                            "50%               7.48        6.90  \n",
                            "75%              17.78        7.50  \n",
                            "max            1823.37       10.00  "
                        ]
                    },
                    "execution_count": 29,
                    "metadata": {},
                    "output_type": "execute_result"
                }
            ],
            "source": [
                "Netflix_titles.describe().round(2)"
            ]
        },
        {
            "cell_type": "markdown",
            "metadata": {},
            "source": [
                "Useful Netflix titles info from describe:\n",
                "\n",
                "Median year: 2018 (Using this instead of mean because mean would skew lower.)  \n",
                "Min year: 1945  \n",
                "25% percentile: 2015  \n",
                "Max year: 2022  \n",
                "\n",
                "Runtimes are between 0 minute and 251 minutes (about 4.25 hours)  \n",
                "Mean runtime: 77.64 minutes(about 1.25 hours)  \n",
                "Median runtime: 84 minutes (about 1.5 hours)  \n",
                "\n",
                "Mean imdb score: 6.53  \n",
                "Median: 6.6  \n",
                "Min/max: 1.5 / 9.6  \n",
                "\n",
                "Mean imdb votes: 23407.19   \n",
                "Median votes: 2279  \n",
                "Min/max: 5 / 2268288  \n",
                "\n",
                "Mean tmdb score: 6.82  \n",
                "Median: 6.9  \n",
                "Min/max: .5 / 10  \n",
                "\n",
                "Mean tmdb popularity: 22.53  \n",
                "Median: 7.48  \n",
                "Min/max: .01 / 1823.37  "
            ]
        },
        {
            "cell_type": "code",
            "execution_count": 30,
            "metadata": {},
            "outputs": [
                {
                    "data": {
                        "text/html": [
                            "<div>\n",
                            "<style scoped>\n",
                            "    .dataframe tbody tr th:only-of-type {\n",
                            "        vertical-align: middle;\n",
                            "    }\n",
                            "\n",
                            "    .dataframe tbody tr th {\n",
                            "        vertical-align: top;\n",
                            "    }\n",
                            "\n",
                            "    .dataframe thead th {\n",
                            "        text-align: right;\n",
                            "    }\n",
                            "</style>\n",
                            "<table border=\"1\" class=\"dataframe\">\n",
                            "  <thead>\n",
                            "    <tr style=\"text-align: right;\">\n",
                            "      <th></th>\n",
                            "      <th>id</th>\n",
                            "      <th>title</th>\n",
                            "      <th>type</th>\n",
                            "      <th>description</th>\n",
                            "      <th>release_year</th>\n",
                            "      <th>age_certification</th>\n",
                            "      <th>runtime</th>\n",
                            "      <th>genres</th>\n",
                            "      <th>production_countries</th>\n",
                            "      <th>seasons</th>\n",
                            "      <th>imdb_id</th>\n",
                            "      <th>imdb_score</th>\n",
                            "      <th>imdb_votes</th>\n",
                            "      <th>tmdb_popularity</th>\n",
                            "      <th>tmdb_score</th>\n",
                            "    </tr>\n",
                            "  </thead>\n",
                            "  <tbody>\n",
                            "    <tr>\n",
                            "      <th>0</th>\n",
                            "      <td>ts300399</td>\n",
                            "      <td>Five Came Back: The Reference Films</td>\n",
                            "      <td>SHOW</td>\n",
                            "      <td>This collection includes 12 World War II-era p...</td>\n",
                            "      <td>1945</td>\n",
                            "      <td>TV-MA</td>\n",
                            "      <td>48</td>\n",
                            "      <td>['documentation']</td>\n",
                            "      <td>['US']</td>\n",
                            "      <td>1.0</td>\n",
                            "      <td>NaN</td>\n",
                            "      <td>NaN</td>\n",
                            "      <td>NaN</td>\n",
                            "      <td>0.600</td>\n",
                            "      <td>NaN</td>\n",
                            "    </tr>\n",
                            "    <tr>\n",
                            "      <th>1</th>\n",
                            "      <td>tm84618</td>\n",
                            "      <td>Taxi Driver</td>\n",
                            "      <td>MOVIE</td>\n",
                            "      <td>A mentally unstable Vietnam War veteran works ...</td>\n",
                            "      <td>1976</td>\n",
                            "      <td>R</td>\n",
                            "      <td>113</td>\n",
                            "      <td>['crime', 'drama']</td>\n",
                            "      <td>['US']</td>\n",
                            "      <td>NaN</td>\n",
                            "      <td>tt0075314</td>\n",
                            "      <td>8.3</td>\n",
                            "      <td>795222.0</td>\n",
                            "      <td>27.612</td>\n",
                            "      <td>8.2</td>\n",
                            "    </tr>\n",
                            "    <tr>\n",
                            "      <th>2</th>\n",
                            "      <td>tm127384</td>\n",
                            "      <td>Monty Python and the Holy Grail</td>\n",
                            "      <td>MOVIE</td>\n",
                            "      <td>King Arthur, accompanied by his squire, recrui...</td>\n",
                            "      <td>1975</td>\n",
                            "      <td>PG</td>\n",
                            "      <td>91</td>\n",
                            "      <td>['comedy', 'fantasy']</td>\n",
                            "      <td>['GB']</td>\n",
                            "      <td>NaN</td>\n",
                            "      <td>tt0071853</td>\n",
                            "      <td>8.2</td>\n",
                            "      <td>530877.0</td>\n",
                            "      <td>18.216</td>\n",
                            "      <td>7.8</td>\n",
                            "    </tr>\n",
                            "    <tr>\n",
                            "      <th>3</th>\n",
                            "      <td>tm70993</td>\n",
                            "      <td>Life of Brian</td>\n",
                            "      <td>MOVIE</td>\n",
                            "      <td>Brian Cohen is an average young Jewish man, bu...</td>\n",
                            "      <td>1979</td>\n",
                            "      <td>R</td>\n",
                            "      <td>94</td>\n",
                            "      <td>['comedy']</td>\n",
                            "      <td>['GB']</td>\n",
                            "      <td>NaN</td>\n",
                            "      <td>tt0079470</td>\n",
                            "      <td>8.0</td>\n",
                            "      <td>392419.0</td>\n",
                            "      <td>17.505</td>\n",
                            "      <td>7.8</td>\n",
                            "    </tr>\n",
                            "    <tr>\n",
                            "      <th>4</th>\n",
                            "      <td>tm190788</td>\n",
                            "      <td>The Exorcist</td>\n",
                            "      <td>MOVIE</td>\n",
                            "      <td>12-year-old Regan MacNeil begins to adapt an e...</td>\n",
                            "      <td>1973</td>\n",
                            "      <td>R</td>\n",
                            "      <td>133</td>\n",
                            "      <td>['horror']</td>\n",
                            "      <td>['US']</td>\n",
                            "      <td>NaN</td>\n",
                            "      <td>tt0070047</td>\n",
                            "      <td>8.1</td>\n",
                            "      <td>391942.0</td>\n",
                            "      <td>95.337</td>\n",
                            "      <td>7.7</td>\n",
                            "    </tr>\n",
                            "  </tbody>\n",
                            "</table>\n",
                            "</div>"
                        ],
                        "text/plain": [
                            "         id                                title   type  \\\n",
                            "0  ts300399  Five Came Back: The Reference Films   SHOW   \n",
                            "1   tm84618                          Taxi Driver  MOVIE   \n",
                            "2  tm127384      Monty Python and the Holy Grail  MOVIE   \n",
                            "3   tm70993                        Life of Brian  MOVIE   \n",
                            "4  tm190788                         The Exorcist  MOVIE   \n",
                            "\n",
                            "                                         description  release_year  \\\n",
                            "0  This collection includes 12 World War II-era p...          1945   \n",
                            "1  A mentally unstable Vietnam War veteran works ...          1976   \n",
                            "2  King Arthur, accompanied by his squire, recrui...          1975   \n",
                            "3  Brian Cohen is an average young Jewish man, bu...          1979   \n",
                            "4  12-year-old Regan MacNeil begins to adapt an e...          1973   \n",
                            "\n",
                            "  age_certification  runtime                 genres production_countries  \\\n",
                            "0             TV-MA       48      ['documentation']               ['US']   \n",
                            "1                 R      113     ['crime', 'drama']               ['US']   \n",
                            "2                PG       91  ['comedy', 'fantasy']               ['GB']   \n",
                            "3                 R       94             ['comedy']               ['GB']   \n",
                            "4                 R      133             ['horror']               ['US']   \n",
                            "\n",
                            "   seasons    imdb_id  imdb_score  imdb_votes  tmdb_popularity  tmdb_score  \n",
                            "0      1.0        NaN         NaN         NaN            0.600         NaN  \n",
                            "1      NaN  tt0075314         8.3    795222.0           27.612         8.2  \n",
                            "2      NaN  tt0071853         8.2    530877.0           18.216         7.8  \n",
                            "3      NaN  tt0079470         8.0    392419.0           17.505         7.8  \n",
                            "4      NaN  tt0070047         8.1    391942.0           95.337         7.7  "
                        ]
                    },
                    "execution_count": 30,
                    "metadata": {},
                    "output_type": "execute_result"
                }
            ],
            "source": [
                "Netflix_titles.head()"
            ]
        },
        {
            "cell_type": "code",
            "execution_count": 31,
            "metadata": {},
            "outputs": [
                {
                    "data": {
                        "text/plain": [
                            "id                         0\n",
                            "title                      1\n",
                            "type                       0\n",
                            "description               18\n",
                            "release_year               0\n",
                            "age_certification       2610\n",
                            "runtime                    0\n",
                            "genres                     0\n",
                            "production_countries       0\n",
                            "seasons                 3759\n",
                            "imdb_id                  444\n",
                            "imdb_score               523\n",
                            "imdb_votes               539\n",
                            "tmdb_popularity           94\n",
                            "tmdb_score               318\n",
                            "dtype: int64"
                        ]
                    },
                    "execution_count": 31,
                    "metadata": {},
                    "output_type": "execute_result"
                }
            ],
            "source": [
                "Netflix_titles.isnull().sum() "
            ]
        },
        {
            "cell_type": "code",
            "execution_count": 32,
            "metadata": {},
            "outputs": [
                {
                    "data": {
                        "text/html": [
                            "<div>\n",
                            "<style scoped>\n",
                            "    .dataframe tbody tr th:only-of-type {\n",
                            "        vertical-align: middle;\n",
                            "    }\n",
                            "\n",
                            "    .dataframe tbody tr th {\n",
                            "        vertical-align: top;\n",
                            "    }\n",
                            "\n",
                            "    .dataframe thead th {\n",
                            "        text-align: right;\n",
                            "    }\n",
                            "</style>\n",
                            "<table border=\"1\" class=\"dataframe\">\n",
                            "  <thead>\n",
                            "    <tr style=\"text-align: right;\">\n",
                            "      <th></th>\n",
                            "      <th>person_id</th>\n",
                            "      <th>id</th>\n",
                            "      <th>name</th>\n",
                            "      <th>character</th>\n",
                            "      <th>role</th>\n",
                            "    </tr>\n",
                            "  </thead>\n",
                            "  <tbody>\n",
                            "    <tr>\n",
                            "      <th>0</th>\n",
                            "      <td>21174</td>\n",
                            "      <td>tm19248</td>\n",
                            "      <td>Buster Keaton</td>\n",
                            "      <td>Johnny Gray</td>\n",
                            "      <td>ACTOR</td>\n",
                            "    </tr>\n",
                            "    <tr>\n",
                            "      <th>1</th>\n",
                            "      <td>28713</td>\n",
                            "      <td>tm19248</td>\n",
                            "      <td>Marion Mack</td>\n",
                            "      <td>Annabelle Lee</td>\n",
                            "      <td>ACTOR</td>\n",
                            "    </tr>\n",
                            "    <tr>\n",
                            "      <th>2</th>\n",
                            "      <td>28714</td>\n",
                            "      <td>tm19248</td>\n",
                            "      <td>Glen Cavender</td>\n",
                            "      <td>Captain Anderson</td>\n",
                            "      <td>ACTOR</td>\n",
                            "    </tr>\n",
                            "    <tr>\n",
                            "      <th>3</th>\n",
                            "      <td>28715</td>\n",
                            "      <td>tm19248</td>\n",
                            "      <td>Jim Farley</td>\n",
                            "      <td>General Thatcher</td>\n",
                            "      <td>ACTOR</td>\n",
                            "    </tr>\n",
                            "    <tr>\n",
                            "      <th>4</th>\n",
                            "      <td>27348</td>\n",
                            "      <td>tm19248</td>\n",
                            "      <td>Frederick Vroom</td>\n",
                            "      <td>A Southern General</td>\n",
                            "      <td>ACTOR</td>\n",
                            "    </tr>\n",
                            "  </tbody>\n",
                            "</table>\n",
                            "</div>"
                        ],
                        "text/plain": [
                            "   person_id       id             name           character   role\n",
                            "0      21174  tm19248    Buster Keaton         Johnny Gray  ACTOR\n",
                            "1      28713  tm19248      Marion Mack       Annabelle Lee  ACTOR\n",
                            "2      28714  tm19248    Glen Cavender    Captain Anderson  ACTOR\n",
                            "3      28715  tm19248       Jim Farley    General Thatcher  ACTOR\n",
                            "4      27348  tm19248  Frederick Vroom  A Southern General  ACTOR"
                        ]
                    },
                    "execution_count": 32,
                    "metadata": {},
                    "output_type": "execute_result"
                }
            ],
            "source": [
                "Paramount_credits.head()"
            ]
        },
        {
            "cell_type": "code",
            "execution_count": 33,
            "metadata": {},
            "outputs": [
                {
                    "data": {
                        "text/plain": [
                            "person_id       0\n",
                            "id              0\n",
                            "name            0\n",
                            "character    3113\n",
                            "role            0\n",
                            "dtype: int64"
                        ]
                    },
                    "execution_count": 33,
                    "metadata": {},
                    "output_type": "execute_result"
                }
            ],
            "source": [
                "Paramount_credits.isnull().sum() "
            ]
        },
        {
            "cell_type": "code",
            "execution_count": 34,
            "metadata": {},
            "outputs": [
                {
                    "data": {
                        "text/html": [
                            "<div>\n",
                            "<style scoped>\n",
                            "    .dataframe tbody tr th:only-of-type {\n",
                            "        vertical-align: middle;\n",
                            "    }\n",
                            "\n",
                            "    .dataframe tbody tr th {\n",
                            "        vertical-align: top;\n",
                            "    }\n",
                            "\n",
                            "    .dataframe thead th {\n",
                            "        text-align: right;\n",
                            "    }\n",
                            "</style>\n",
                            "<table border=\"1\" class=\"dataframe\">\n",
                            "  <thead>\n",
                            "    <tr style=\"text-align: right;\">\n",
                            "      <th></th>\n",
                            "      <th>release_year</th>\n",
                            "      <th>runtime</th>\n",
                            "      <th>seasons</th>\n",
                            "      <th>imdb_score</th>\n",
                            "      <th>imdb_votes</th>\n",
                            "      <th>tmdb_popularity</th>\n",
                            "      <th>tmdb_score</th>\n",
                            "    </tr>\n",
                            "  </thead>\n",
                            "  <tbody>\n",
                            "    <tr>\n",
                            "      <th>count</th>\n",
                            "      <td>2825.00</td>\n",
                            "      <td>2825.00</td>\n",
                            "      <td>626.00</td>\n",
                            "      <td>2613.00</td>\n",
                            "      <td>2613.00</td>\n",
                            "      <td>2768.00</td>\n",
                            "      <td>2337.00</td>\n",
                            "    </tr>\n",
                            "    <tr>\n",
                            "      <th>mean</th>\n",
                            "      <td>1990.70</td>\n",
                            "      <td>72.25</td>\n",
                            "      <td>3.98</td>\n",
                            "      <td>6.04</td>\n",
                            "      <td>22238.76</td>\n",
                            "      <td>13.04</td>\n",
                            "      <td>6.05</td>\n",
                            "    </tr>\n",
                            "    <tr>\n",
                            "      <th>std</th>\n",
                            "      <td>31.39</td>\n",
                            "      <td>30.07</td>\n",
                            "      <td>5.41</td>\n",
                            "      <td>1.28</td>\n",
                            "      <td>115823.22</td>\n",
                            "      <td>96.29</td>\n",
                            "      <td>1.48</td>\n",
                            "    </tr>\n",
                            "    <tr>\n",
                            "      <th>min</th>\n",
                            "      <td>1912.00</td>\n",
                            "      <td>1.00</td>\n",
                            "      <td>1.00</td>\n",
                            "      <td>1.70</td>\n",
                            "      <td>5.00</td>\n",
                            "      <td>0.01</td>\n",
                            "      <td>1.00</td>\n",
                            "    </tr>\n",
                            "    <tr>\n",
                            "      <th>25%</th>\n",
                            "      <td>1965.00</td>\n",
                            "      <td>48.00</td>\n",
                            "      <td>1.00</td>\n",
                            "      <td>5.30</td>\n",
                            "      <td>148.00</td>\n",
                            "      <td>1.27</td>\n",
                            "      <td>5.10</td>\n",
                            "    </tr>\n",
                            "    <tr>\n",
                            "      <th>50%</th>\n",
                            "      <td>2007.00</td>\n",
                            "      <td>75.00</td>\n",
                            "      <td>2.00</td>\n",
                            "      <td>6.10</td>\n",
                            "      <td>548.00</td>\n",
                            "      <td>2.62</td>\n",
                            "      <td>6.10</td>\n",
                            "    </tr>\n",
                            "    <tr>\n",
                            "      <th>75%</th>\n",
                            "      <td>2017.00</td>\n",
                            "      <td>93.00</td>\n",
                            "      <td>4.00</td>\n",
                            "      <td>7.00</td>\n",
                            "      <td>3092.00</td>\n",
                            "      <td>6.96</td>\n",
                            "      <td>7.00</td>\n",
                            "    </tr>\n",
                            "    <tr>\n",
                            "      <th>max</th>\n",
                            "      <td>2022.00</td>\n",
                            "      <td>228.00</td>\n",
                            "      <td>49.00</td>\n",
                            "      <td>9.40</td>\n",
                            "      <td>1994599.00</td>\n",
                            "      <td>4579.16</td>\n",
                            "      <td>10.00</td>\n",
                            "    </tr>\n",
                            "  </tbody>\n",
                            "</table>\n",
                            "</div>"
                        ],
                        "text/plain": [
                            "       release_year  runtime  seasons  imdb_score  imdb_votes  \\\n",
                            "count       2825.00  2825.00   626.00     2613.00     2613.00   \n",
                            "mean        1990.70    72.25     3.98        6.04    22238.76   \n",
                            "std           31.39    30.07     5.41        1.28   115823.22   \n",
                            "min         1912.00     1.00     1.00        1.70        5.00   \n",
                            "25%         1965.00    48.00     1.00        5.30      148.00   \n",
                            "50%         2007.00    75.00     2.00        6.10      548.00   \n",
                            "75%         2017.00    93.00     4.00        7.00     3092.00   \n",
                            "max         2022.00   228.00    49.00        9.40  1994599.00   \n",
                            "\n",
                            "       tmdb_popularity  tmdb_score  \n",
                            "count          2768.00     2337.00  \n",
                            "mean             13.04        6.05  \n",
                            "std              96.29        1.48  \n",
                            "min               0.01        1.00  \n",
                            "25%               1.27        5.10  \n",
                            "50%               2.62        6.10  \n",
                            "75%               6.96        7.00  \n",
                            "max            4579.16       10.00  "
                        ]
                    },
                    "execution_count": 34,
                    "metadata": {},
                    "output_type": "execute_result"
                }
            ],
            "source": [
                "Paramount_titles.describe().round(2)"
            ]
        },
        {
            "cell_type": "markdown",
            "metadata": {},
            "source": [
                "Useful Paramount titles info from describe:\n",
                "\n",
                "Median year: 2007 (Using this instead of mean because mean would skew lower.)  \n",
                "Min year: 1912  \n",
                "25% percentile: 1965  \n",
                "Max year: 2022  \n",
                "\n",
                "Runtimes are between 1 minute and 228 minutes (about 4 hours)  \n",
                "Mean runtime: 72.25 minutes(about 1.25 hours)  \n",
                "Median runtime: 75 minutes (about 1.25 hours)  \n",
                "\n",
                "Mean imdb score: 6.04  \n",
                "Median: 6.1  \n",
                "Min/max: 1.7 / 9.4  \n",
                "\n",
                "Mean imdb votes: 22238.76  \n",
                "Median votes: 548  \n",
                "Min/max: 5 / 1994599  \n",
                "\n",
                "Mean tmdb score: 6.05  \n",
                "Median: 6.1  \n",
                "Min/max: 1 / 10  \n",
                "\n",
                "Mean tmdb popularity: 13.04  \n",
                "Median: 2.62  \n",
                "Min/max: .01 / 4579.16  "
            ]
        },
        {
            "cell_type": "code",
            "execution_count": 35,
            "metadata": {},
            "outputs": [
                {
                    "data": {
                        "text/html": [
                            "<div>\n",
                            "<style scoped>\n",
                            "    .dataframe tbody tr th:only-of-type {\n",
                            "        vertical-align: middle;\n",
                            "    }\n",
                            "\n",
                            "    .dataframe tbody tr th {\n",
                            "        vertical-align: top;\n",
                            "    }\n",
                            "\n",
                            "    .dataframe thead th {\n",
                            "        text-align: right;\n",
                            "    }\n",
                            "</style>\n",
                            "<table border=\"1\" class=\"dataframe\">\n",
                            "  <thead>\n",
                            "    <tr style=\"text-align: right;\">\n",
                            "      <th></th>\n",
                            "      <th>id</th>\n",
                            "      <th>title</th>\n",
                            "      <th>type</th>\n",
                            "      <th>description</th>\n",
                            "      <th>release_year</th>\n",
                            "      <th>age_certification</th>\n",
                            "      <th>runtime</th>\n",
                            "      <th>genres</th>\n",
                            "      <th>production_countries</th>\n",
                            "      <th>seasons</th>\n",
                            "      <th>imdb_id</th>\n",
                            "      <th>imdb_score</th>\n",
                            "      <th>imdb_votes</th>\n",
                            "      <th>tmdb_popularity</th>\n",
                            "      <th>tmdb_score</th>\n",
                            "    </tr>\n",
                            "  </thead>\n",
                            "  <tbody>\n",
                            "    <tr>\n",
                            "      <th>0</th>\n",
                            "      <td>tm19248</td>\n",
                            "      <td>The General</td>\n",
                            "      <td>MOVIE</td>\n",
                            "      <td>During America’s Civil War, Union spies steal ...</td>\n",
                            "      <td>1926</td>\n",
                            "      <td>NaN</td>\n",
                            "      <td>78</td>\n",
                            "      <td>['action', 'drama', 'war', 'western', 'comedy'...</td>\n",
                            "      <td>['US']</td>\n",
                            "      <td>NaN</td>\n",
                            "      <td>tt0017925</td>\n",
                            "      <td>8.2</td>\n",
                            "      <td>89766.0</td>\n",
                            "      <td>8.647</td>\n",
                            "      <td>8.0</td>\n",
                            "    </tr>\n",
                            "    <tr>\n",
                            "      <th>1</th>\n",
                            "      <td>tm83884</td>\n",
                            "      <td>His Girl Friday</td>\n",
                            "      <td>MOVIE</td>\n",
                            "      <td>Hildy, the journalist former wife of newspaper...</td>\n",
                            "      <td>1940</td>\n",
                            "      <td>NaN</td>\n",
                            "      <td>92</td>\n",
                            "      <td>['comedy', 'drama', 'romance']</td>\n",
                            "      <td>['US']</td>\n",
                            "      <td>NaN</td>\n",
                            "      <td>tt0032599</td>\n",
                            "      <td>7.8</td>\n",
                            "      <td>57835.0</td>\n",
                            "      <td>11.270</td>\n",
                            "      <td>7.4</td>\n",
                            "    </tr>\n",
                            "    <tr>\n",
                            "      <th>2</th>\n",
                            "      <td>tm19424</td>\n",
                            "      <td>Detour</td>\n",
                            "      <td>MOVIE</td>\n",
                            "      <td>The life of Al Roberts, a pianist in a New Yor...</td>\n",
                            "      <td>1945</td>\n",
                            "      <td>NaN</td>\n",
                            "      <td>66</td>\n",
                            "      <td>['thriller', 'drama', 'crime']</td>\n",
                            "      <td>['US']</td>\n",
                            "      <td>NaN</td>\n",
                            "      <td>tt0037638</td>\n",
                            "      <td>7.3</td>\n",
                            "      <td>17233.0</td>\n",
                            "      <td>7.757</td>\n",
                            "      <td>7.2</td>\n",
                            "    </tr>\n",
                            "    <tr>\n",
                            "      <th>3</th>\n",
                            "      <td>tm112005</td>\n",
                            "      <td>Marihuana</td>\n",
                            "      <td>MOVIE</td>\n",
                            "      <td>A young girl named Burma attends a beach party...</td>\n",
                            "      <td>1936</td>\n",
                            "      <td>NaN</td>\n",
                            "      <td>57</td>\n",
                            "      <td>['crime', 'drama']</td>\n",
                            "      <td>['US']</td>\n",
                            "      <td>NaN</td>\n",
                            "      <td>tt0026683</td>\n",
                            "      <td>4.0</td>\n",
                            "      <td>864.0</td>\n",
                            "      <td>3.748</td>\n",
                            "      <td>3.6</td>\n",
                            "    </tr>\n",
                            "    <tr>\n",
                            "      <th>4</th>\n",
                            "      <td>tm22806</td>\n",
                            "      <td>Intolerance: Love's Struggle Throughout the Ages</td>\n",
                            "      <td>MOVIE</td>\n",
                            "      <td>The story of a poor young woman, separated by ...</td>\n",
                            "      <td>1916</td>\n",
                            "      <td>NaN</td>\n",
                            "      <td>197</td>\n",
                            "      <td>['history', 'drama']</td>\n",
                            "      <td>['US']</td>\n",
                            "      <td>NaN</td>\n",
                            "      <td>tt0006864</td>\n",
                            "      <td>7.7</td>\n",
                            "      <td>15242.0</td>\n",
                            "      <td>9.412</td>\n",
                            "      <td>7.2</td>\n",
                            "    </tr>\n",
                            "  </tbody>\n",
                            "</table>\n",
                            "</div>"
                        ],
                        "text/plain": [
                            "         id                                             title   type  \\\n",
                            "0   tm19248                                       The General  MOVIE   \n",
                            "1   tm83884                                   His Girl Friday  MOVIE   \n",
                            "2   tm19424                                            Detour  MOVIE   \n",
                            "3  tm112005                                         Marihuana  MOVIE   \n",
                            "4   tm22806  Intolerance: Love's Struggle Throughout the Ages  MOVIE   \n",
                            "\n",
                            "                                         description  release_year  \\\n",
                            "0  During America’s Civil War, Union spies steal ...          1926   \n",
                            "1  Hildy, the journalist former wife of newspaper...          1940   \n",
                            "2  The life of Al Roberts, a pianist in a New Yor...          1945   \n",
                            "3  A young girl named Burma attends a beach party...          1936   \n",
                            "4  The story of a poor young woman, separated by ...          1916   \n",
                            "\n",
                            "  age_certification  runtime  \\\n",
                            "0               NaN       78   \n",
                            "1               NaN       92   \n",
                            "2               NaN       66   \n",
                            "3               NaN       57   \n",
                            "4               NaN      197   \n",
                            "\n",
                            "                                              genres production_countries  \\\n",
                            "0  ['action', 'drama', 'war', 'western', 'comedy'...               ['US']   \n",
                            "1                     ['comedy', 'drama', 'romance']               ['US']   \n",
                            "2                     ['thriller', 'drama', 'crime']               ['US']   \n",
                            "3                                 ['crime', 'drama']               ['US']   \n",
                            "4                               ['history', 'drama']               ['US']   \n",
                            "\n",
                            "   seasons    imdb_id  imdb_score  imdb_votes  tmdb_popularity  tmdb_score  \n",
                            "0      NaN  tt0017925         8.2     89766.0            8.647         8.0  \n",
                            "1      NaN  tt0032599         7.8     57835.0           11.270         7.4  \n",
                            "2      NaN  tt0037638         7.3     17233.0            7.757         7.2  \n",
                            "3      NaN  tt0026683         4.0       864.0            3.748         3.6  \n",
                            "4      NaN  tt0006864         7.7     15242.0            9.412         7.2  "
                        ]
                    },
                    "execution_count": 35,
                    "metadata": {},
                    "output_type": "execute_result"
                }
            ],
            "source": [
                "Paramount_titles.head()"
            ]
        },
        {
            "cell_type": "code",
            "execution_count": 36,
            "metadata": {},
            "outputs": [
                {
                    "data": {
                        "text/plain": [
                            "id                         0\n",
                            "title                      0\n",
                            "type                       0\n",
                            "description               13\n",
                            "release_year               0\n",
                            "age_certification       1523\n",
                            "runtime                    0\n",
                            "genres                     0\n",
                            "production_countries       0\n",
                            "seasons                 2199\n",
                            "imdb_id                  159\n",
                            "imdb_score               212\n",
                            "imdb_votes               212\n",
                            "tmdb_popularity           57\n",
                            "tmdb_score               488\n",
                            "dtype: int64"
                        ]
                    },
                    "execution_count": 36,
                    "metadata": {},
                    "output_type": "execute_result"
                }
            ],
            "source": [
                "Paramount_titles.isnull().sum() "
            ]
        },
        {
            "cell_type": "markdown",
            "metadata": {},
            "source": [
                "### Step 2\n",
                "Running columns on all titles dataframes and then all credits dataframes to make sure they match for concatenation."
            ]
        },
        {
            "cell_type": "code",
            "execution_count": 37,
            "metadata": {},
            "outputs": [
                {
                    "data": {
                        "text/plain": [
                            "Index(['id', 'title', 'type', 'description', 'release_year',\n",
                            "       'age_certification', 'runtime', 'genres', 'production_countries',\n",
                            "       'seasons', 'imdb_id', 'imdb_score', 'imdb_votes', 'tmdb_popularity',\n",
                            "       'tmdb_score'],\n",
                            "      dtype='object')"
                        ]
                    },
                    "execution_count": 37,
                    "metadata": {},
                    "output_type": "execute_result"
                }
            ],
            "source": [
                "Amazon_titles.columns"
            ]
        },
        {
            "cell_type": "code",
            "execution_count": 38,
            "metadata": {},
            "outputs": [
                {
                    "data": {
                        "text/plain": [
                            "Index(['id', 'title', 'type', 'description', 'release_year',\n",
                            "       'age_certification', 'runtime', 'genres', 'production_countries',\n",
                            "       'seasons', 'imdb_id', 'imdb_score', 'imdb_votes', 'tmdb_popularity',\n",
                            "       'tmdb_score'],\n",
                            "      dtype='object')"
                        ]
                    },
                    "execution_count": 38,
                    "metadata": {},
                    "output_type": "execute_result"
                }
            ],
            "source": [
                "Disney_titles.columns"
            ]
        },
        {
            "cell_type": "code",
            "execution_count": 39,
            "metadata": {},
            "outputs": [
                {
                    "data": {
                        "text/plain": [
                            "Index(['id', 'title', 'type', 'description', 'release_year',\n",
                            "       'age_certification', 'runtime', 'genres', 'production_countries',\n",
                            "       'seasons', 'imdb_id', 'imdb_score', 'imdb_votes', 'tmdb_popularity',\n",
                            "       'tmdb_score'],\n",
                            "      dtype='object')"
                        ]
                    },
                    "execution_count": 39,
                    "metadata": {},
                    "output_type": "execute_result"
                }
            ],
            "source": [
                "HBO_titles.columns"
            ]
        },
        {
            "cell_type": "code",
            "execution_count": 40,
            "metadata": {},
            "outputs": [
                {
                    "data": {
                        "text/plain": [
                            "Index(['id', 'title', 'type', 'description', 'release_year',\n",
                            "       'age_certification', 'runtime', 'genres', 'production_countries',\n",
                            "       'seasons', 'imdb_id', 'imdb_score', 'imdb_votes', 'tmdb_popularity',\n",
                            "       'tmdb_score'],\n",
                            "      dtype='object')"
                        ]
                    },
                    "execution_count": 40,
                    "metadata": {},
                    "output_type": "execute_result"
                }
            ],
            "source": [
                "Hulu_titles.columns"
            ]
        },
        {
            "cell_type": "code",
            "execution_count": 41,
            "metadata": {},
            "outputs": [
                {
                    "data": {
                        "text/plain": [
                            "Index(['id', 'title', 'type', 'description', 'release_year',\n",
                            "       'age_certification', 'runtime', 'genres', 'production_countries',\n",
                            "       'seasons', 'imdb_id', 'imdb_score', 'imdb_votes', 'tmdb_popularity',\n",
                            "       'tmdb_score'],\n",
                            "      dtype='object')"
                        ]
                    },
                    "execution_count": 41,
                    "metadata": {},
                    "output_type": "execute_result"
                }
            ],
            "source": [
                "Netflix_titles.columns"
            ]
        },
        {
            "cell_type": "code",
            "execution_count": 42,
            "metadata": {},
            "outputs": [
                {
                    "data": {
                        "text/plain": [
                            "Index(['id', 'title', 'type', 'description', 'release_year',\n",
                            "       'age_certification', 'runtime', 'genres', 'production_countries',\n",
                            "       'seasons', 'imdb_id', 'imdb_score', 'imdb_votes', 'tmdb_popularity',\n",
                            "       'tmdb_score'],\n",
                            "      dtype='object')"
                        ]
                    },
                    "execution_count": 42,
                    "metadata": {},
                    "output_type": "execute_result"
                }
            ],
            "source": [
                "Paramount_titles.columns"
            ]
        },
        {
            "cell_type": "code",
            "execution_count": 43,
            "metadata": {},
            "outputs": [
                {
                    "data": {
                        "text/plain": [
                            "Index(['person_id', 'id', 'name', 'character', 'role'], dtype='object')"
                        ]
                    },
                    "execution_count": 43,
                    "metadata": {},
                    "output_type": "execute_result"
                }
            ],
            "source": [
                "Amazon_credits.columns"
            ]
        },
        {
            "cell_type": "code",
            "execution_count": 44,
            "metadata": {},
            "outputs": [
                {
                    "data": {
                        "text/plain": [
                            "Index(['person_id', 'id', 'name', 'character', 'role'], dtype='object')"
                        ]
                    },
                    "execution_count": 44,
                    "metadata": {},
                    "output_type": "execute_result"
                }
            ],
            "source": [
                "Disney_credits.columns"
            ]
        },
        {
            "cell_type": "code",
            "execution_count": 45,
            "metadata": {},
            "outputs": [
                {
                    "data": {
                        "text/plain": [
                            "Index(['person_id', 'id', 'name', 'character', 'role'], dtype='object')"
                        ]
                    },
                    "execution_count": 45,
                    "metadata": {},
                    "output_type": "execute_result"
                }
            ],
            "source": [
                "HBO_credits.columns"
            ]
        },
        {
            "cell_type": "code",
            "execution_count": 46,
            "metadata": {},
            "outputs": [
                {
                    "data": {
                        "text/plain": [
                            "Index(['person_id', 'id', 'name', 'character', 'role'], dtype='object')"
                        ]
                    },
                    "execution_count": 46,
                    "metadata": {},
                    "output_type": "execute_result"
                }
            ],
            "source": [
                "Hulu_credits.columns"
            ]
        },
        {
            "cell_type": "code",
            "execution_count": 47,
            "metadata": {},
            "outputs": [
                {
                    "data": {
                        "text/plain": [
                            "Index(['person_id', 'id', 'name', 'character', 'role'], dtype='object')"
                        ]
                    },
                    "execution_count": 47,
                    "metadata": {},
                    "output_type": "execute_result"
                }
            ],
            "source": [
                "Netflix_credits.columns"
            ]
        },
        {
            "cell_type": "code",
            "execution_count": 48,
            "metadata": {},
            "outputs": [
                {
                    "data": {
                        "text/plain": [
                            "Index(['person_id', 'id', 'name', 'character', 'role'], dtype='object')"
                        ]
                    },
                    "execution_count": 48,
                    "metadata": {},
                    "output_type": "execute_result"
                }
            ],
            "source": [
                "Paramount_credits.columns"
            ]
        },
        {
            "cell_type": "markdown",
            "metadata": {},
            "source": [
                "#### Step 3\n",
                "I'm concatenating the titles and credits dataframes for easier analysis across the services from here on out. Before I do that, I will add a column and fill it with the service name to help me sort them by service easily when needed."
            ]
        },
        {
            "cell_type": "code",
            "execution_count": 49,
            "metadata": {},
            "outputs": [],
            "source": [
                "Amazon_titles['service'] = 'Amazon'\n",
                "Amazon_credits['service'] = 'Amazon'\n",
                "Disney_credits['service'] = 'Disney'\n",
                "Disney_titles['service'] = 'Disney'\n",
                "HBO_credits['service'] = 'HBO'\n",
                "HBO_titles['service'] = 'HBO'\n",
                "Hulu_credits['service'] = 'Hulu'\n",
                "Hulu_titles['service'] = 'Hulu'\n",
                "Netflix_credits['service'] = 'Netflix'\n",
                "Netflix_titles['service'] = 'Netflix'\n",
                "Paramount_credits['service'] = 'Paramount'\n",
                "Paramount_titles['service'] = 'Paramount'"
            ]
        },
        {
            "cell_type": "code",
            "execution_count": 50,
            "metadata": {},
            "outputs": [],
            "source": [
                "titles_df = pd.concat([Amazon_titles, Disney_titles, HBO_titles, Hulu_titles, Netflix_titles, Paramount_titles])"
            ]
        },
        {
            "cell_type": "code",
            "execution_count": 51,
            "metadata": {},
            "outputs": [],
            "source": [
                "credits_df = pd.concat([Amazon_credits, Disney_credits, HBO_credits, Hulu_credits, Netflix_credits, Paramount_credits])"
            ]
        },
        {
            "cell_type": "code",
            "execution_count": 52,
            "metadata": {},
            "outputs": [
                {
                    "data": {
                        "text/html": [
                            "<div>\n",
                            "<style scoped>\n",
                            "    .dataframe tbody tr th:only-of-type {\n",
                            "        vertical-align: middle;\n",
                            "    }\n",
                            "\n",
                            "    .dataframe tbody tr th {\n",
                            "        vertical-align: top;\n",
                            "    }\n",
                            "\n",
                            "    .dataframe thead th {\n",
                            "        text-align: right;\n",
                            "    }\n",
                            "</style>\n",
                            "<table border=\"1\" class=\"dataframe\">\n",
                            "  <thead>\n",
                            "    <tr style=\"text-align: right;\">\n",
                            "      <th></th>\n",
                            "      <th>release_year</th>\n",
                            "      <th>runtime</th>\n",
                            "      <th>seasons</th>\n",
                            "      <th>imdb_score</th>\n",
                            "      <th>imdb_votes</th>\n",
                            "      <th>tmdb_popularity</th>\n",
                            "      <th>tmdb_score</th>\n",
                            "    </tr>\n",
                            "  </thead>\n",
                            "  <tbody>\n",
                            "    <tr>\n",
                            "      <th>count</th>\n",
                            "      <td>25729.00</td>\n",
                            "      <td>25729.00</td>\n",
                            "      <td>6531.00</td>\n",
                            "      <td>23008.00</td>\n",
                            "      <td>22967.00</td>\n",
                            "      <td>24937.00</td>\n",
                            "      <td>22304.00</td>\n",
                            "    </tr>\n",
                            "    <tr>\n",
                            "      <th>mean</th>\n",
                            "      <td>2004.72</td>\n",
                            "      <td>78.12</td>\n",
                            "      <td>2.95</td>\n",
                            "      <td>6.33</td>\n",
                            "      <td>25794.03</td>\n",
                            "      <td>17.03</td>\n",
                            "      <td>6.46</td>\n",
                            "    </tr>\n",
                            "    <tr>\n",
                            "      <th>std</th>\n",
                            "      <td>23.35</td>\n",
                            "      <td>36.80</td>\n",
                            "      <td>4.04</td>\n",
                            "      <td>1.28</td>\n",
                            "      <td>103498.69</td>\n",
                            "      <td>92.78</td>\n",
                            "      <td>1.39</td>\n",
                            "    </tr>\n",
                            "    <tr>\n",
                            "      <th>min</th>\n",
                            "      <td>1901.00</td>\n",
                            "      <td>0.00</td>\n",
                            "      <td>1.00</td>\n",
                            "      <td>1.00</td>\n",
                            "      <td>5.00</td>\n",
                            "      <td>0.00</td>\n",
                            "      <td>0.50</td>\n",
                            "    </tr>\n",
                            "    <tr>\n",
                            "      <th>25%</th>\n",
                            "      <td>2003.00</td>\n",
                            "      <td>48.00</td>\n",
                            "      <td>1.00</td>\n",
                            "      <td>5.50</td>\n",
                            "      <td>219.00</td>\n",
                            "      <td>1.84</td>\n",
                            "      <td>5.70</td>\n",
                            "    </tr>\n",
                            "    <tr>\n",
                            "      <th>50%</th>\n",
                            "      <td>2015.00</td>\n",
                            "      <td>85.00</td>\n",
                            "      <td>2.00</td>\n",
                            "      <td>6.40</td>\n",
                            "      <td>1219.00</td>\n",
                            "      <td>4.62</td>\n",
                            "      <td>6.60</td>\n",
                            "    </tr>\n",
                            "    <tr>\n",
                            "      <th>75%</th>\n",
                            "      <td>2019.00</td>\n",
                            "      <td>101.00</td>\n",
                            "      <td>3.00</td>\n",
                            "      <td>7.30</td>\n",
                            "      <td>7927.50</td>\n",
                            "      <td>12.23</td>\n",
                            "      <td>7.40</td>\n",
                            "    </tr>\n",
                            "    <tr>\n",
                            "      <th>max</th>\n",
                            "      <td>2022.00</td>\n",
                            "      <td>549.00</td>\n",
                            "      <td>63.00</td>\n",
                            "      <td>9.90</td>\n",
                            "      <td>2555504.00</td>\n",
                            "      <td>9323.83</td>\n",
                            "      <td>10.00</td>\n",
                            "    </tr>\n",
                            "  </tbody>\n",
                            "</table>\n",
                            "</div>"
                        ],
                        "text/plain": [
                            "       release_year   runtime  seasons  imdb_score  imdb_votes  \\\n",
                            "count      25729.00  25729.00  6531.00    23008.00    22967.00   \n",
                            "mean        2004.72     78.12     2.95        6.33    25794.03   \n",
                            "std           23.35     36.80     4.04        1.28   103498.69   \n",
                            "min         1901.00      0.00     1.00        1.00        5.00   \n",
                            "25%         2003.00     48.00     1.00        5.50      219.00   \n",
                            "50%         2015.00     85.00     2.00        6.40     1219.00   \n",
                            "75%         2019.00    101.00     3.00        7.30     7927.50   \n",
                            "max         2022.00    549.00    63.00        9.90  2555504.00   \n",
                            "\n",
                            "       tmdb_popularity  tmdb_score  \n",
                            "count         24937.00    22304.00  \n",
                            "mean             17.03        6.46  \n",
                            "std              92.78        1.39  \n",
                            "min               0.00        0.50  \n",
                            "25%               1.84        5.70  \n",
                            "50%               4.62        6.60  \n",
                            "75%              12.23        7.40  \n",
                            "max            9323.83       10.00  "
                        ]
                    },
                    "execution_count": 52,
                    "metadata": {},
                    "output_type": "execute_result"
                }
            ],
            "source": [
                "titles_df.describe().round(2)"
            ]
        },
        {
            "cell_type": "markdown",
            "metadata": {},
            "source": [
                "Useful combined titles info from describe:\n",
                "\n",
                "Median year: 2015 (Using this instead of mean because mean would skew lower.)  \n",
                "Min year: 1901  \n",
                "25% percentile: 2003  \n",
                "Max year: 2022  \n",
                "\n",
                "Runtimes are between 1 minute and 549 minutes (about 9 hours)  \n",
                "Mean runtime: 78.12 minutes(about 1.25 hours)  \n",
                "Median runtime: 85 minutes (about 1.5 hours)  \n",
                "\n",
                "Mean imdb score: 6.33  \n",
                "Median: 6.4  \n",
                "Min/max: 1 / 9.9  \n",
                "\n",
                "Mean imdb votes: 25794.03  \n",
                "Median votes: 1219  \n",
                "Min/max: 5 / 2555504  \n",
                "\n",
                "Mean tmdb score: 6.46  \n",
                "Median: 6.6  \n",
                "Min/max: .5 / 10  \n",
                "\n",
                "Mean tmdb popularity: 17.03  \n",
                "Median: 4.62  \n",
                "Min/max: 0 / 9323.83  "
            ]
        },
        {
            "cell_type": "code",
            "execution_count": 53,
            "metadata": {},
            "outputs": [
                {
                    "data": {
                        "text/plain": [
                            "id                          0\n",
                            "title                       1\n",
                            "type                        0\n",
                            "description               181\n",
                            "release_year                0\n",
                            "age_certification       12838\n",
                            "runtime                     0\n",
                            "genres                      0\n",
                            "production_countries        0\n",
                            "seasons                 19198\n",
                            "imdb_id                  2133\n",
                            "imdb_score               2721\n",
                            "imdb_votes               2762\n",
                            "tmdb_popularity           792\n",
                            "tmdb_score               3425\n",
                            "service                     0\n",
                            "dtype: int64"
                        ]
                    },
                    "execution_count": 53,
                    "metadata": {},
                    "output_type": "execute_result"
                }
            ],
            "source": [
                "titles_df.isnull().sum()"
            ]
        },
        {
            "cell_type": "markdown",
            "metadata": {},
            "source": [
                "Lots of null seasons (probably movies) and a surprising number of null age certifications."
            ]
        },
        {
            "cell_type": "code",
            "execution_count": 54,
            "metadata": {},
            "outputs": [
                {
                    "data": {
                        "text/html": [
                            "<div>\n",
                            "<style scoped>\n",
                            "    .dataframe tbody tr th:only-of-type {\n",
                            "        vertical-align: middle;\n",
                            "    }\n",
                            "\n",
                            "    .dataframe tbody tr th {\n",
                            "        vertical-align: top;\n",
                            "    }\n",
                            "\n",
                            "    .dataframe thead th {\n",
                            "        text-align: right;\n",
                            "    }\n",
                            "</style>\n",
                            "<table border=\"1\" class=\"dataframe\">\n",
                            "  <thead>\n",
                            "    <tr style=\"text-align: right;\">\n",
                            "      <th></th>\n",
                            "      <th>person_id</th>\n",
                            "      <th>id</th>\n",
                            "      <th>name</th>\n",
                            "      <th>character</th>\n",
                            "      <th>role</th>\n",
                            "      <th>service</th>\n",
                            "    </tr>\n",
                            "  </thead>\n",
                            "  <tbody>\n",
                            "    <tr>\n",
                            "      <th>0</th>\n",
                            "      <td>59401</td>\n",
                            "      <td>ts20945</td>\n",
                            "      <td>Joe Besser</td>\n",
                            "      <td>Joe</td>\n",
                            "      <td>ACTOR</td>\n",
                            "      <td>Amazon</td>\n",
                            "    </tr>\n",
                            "    <tr>\n",
                            "      <th>1</th>\n",
                            "      <td>31460</td>\n",
                            "      <td>ts20945</td>\n",
                            "      <td>Moe Howard</td>\n",
                            "      <td>Moe</td>\n",
                            "      <td>ACTOR</td>\n",
                            "      <td>Amazon</td>\n",
                            "    </tr>\n",
                            "    <tr>\n",
                            "      <th>2</th>\n",
                            "      <td>31461</td>\n",
                            "      <td>ts20945</td>\n",
                            "      <td>Larry Fine</td>\n",
                            "      <td>Larry</td>\n",
                            "      <td>ACTOR</td>\n",
                            "      <td>Amazon</td>\n",
                            "    </tr>\n",
                            "    <tr>\n",
                            "      <th>3</th>\n",
                            "      <td>21174</td>\n",
                            "      <td>tm19248</td>\n",
                            "      <td>Buster Keaton</td>\n",
                            "      <td>Johnny Gray</td>\n",
                            "      <td>ACTOR</td>\n",
                            "      <td>Amazon</td>\n",
                            "    </tr>\n",
                            "    <tr>\n",
                            "      <th>4</th>\n",
                            "      <td>28713</td>\n",
                            "      <td>tm19248</td>\n",
                            "      <td>Marion Mack</td>\n",
                            "      <td>Annabelle Lee</td>\n",
                            "      <td>ACTOR</td>\n",
                            "      <td>Amazon</td>\n",
                            "    </tr>\n",
                            "  </tbody>\n",
                            "</table>\n",
                            "</div>"
                        ],
                        "text/plain": [
                            "   person_id       id           name      character   role service\n",
                            "0      59401  ts20945     Joe Besser            Joe  ACTOR  Amazon\n",
                            "1      31460  ts20945     Moe Howard            Moe  ACTOR  Amazon\n",
                            "2      31461  ts20945     Larry Fine          Larry  ACTOR  Amazon\n",
                            "3      21174  tm19248  Buster Keaton    Johnny Gray  ACTOR  Amazon\n",
                            "4      28713  tm19248    Marion Mack  Annabelle Lee  ACTOR  Amazon"
                        ]
                    },
                    "execution_count": 54,
                    "metadata": {},
                    "output_type": "execute_result"
                }
            ],
            "source": [
                "credits_df.head()"
            ]
        },
        {
            "cell_type": "code",
            "execution_count": 58,
            "metadata": {},
            "outputs": [
                {
                    "data": {
                        "text/plain": [
                            "type   age_certification\n",
                            "MOVIE  R                    3051\n",
                            "       PG-13                1927\n",
                            "       PG                   1722\n",
                            "       G                    1020\n",
                            "       NC-17                  39\n",
                            "SHOW   TV-MA                1722\n",
                            "       TV-14                1573\n",
                            "       TV-PG                 795\n",
                            "       TV-G                  368\n",
                            "       TV-Y7                 367\n",
                            "       TV-Y                  307\n",
                            "Name: age_certification, dtype: int64"
                        ]
                    },
                    "execution_count": 58,
                    "metadata": {},
                    "output_type": "execute_result"
                }
            ],
            "source": [
                "titles_df.groupby('type')['age_certification'].value_counts()"
            ]
        },
        {
            "cell_type": "code",
            "execution_count": null,
            "metadata": {},
            "outputs": [
                {
                    "data": {
                        "text/plain": [
                            "role\n",
                            "ACTOR       345327\n",
                            "DIRECTOR     20570\n",
                            "dtype: int64"
                        ]
                    },
                    "execution_count": 57,
                    "metadata": {},
                    "output_type": "execute_result"
                }
            ],
            "source": [
                "credits_df.value_counts('role')"
            ]
        },
        {
            "cell_type": "code",
            "execution_count": null,
            "metadata": {},
            "outputs": [
                {
                    "data": {
                        "text/plain": [
                            "(0.9369999999999999, 7.2]    0.236853\n",
                            "(7.2, 13.4]                  0.011116\n",
                            "(13.4, 19.6]                 0.002798\n",
                            "(19.6, 25.8]                 0.001438\n",
                            "(25.8, 32.0]                 0.000661\n",
                            "(32.0, 38.2]                 0.000505\n",
                            "(38.2, 44.4]                 0.000194\n",
                            "(44.4, 50.6]                 0.000155\n",
                            "(50.6, 56.8]                 0.000078\n",
                            "(56.8, 63.0]                 0.000039\n",
                            "Name: seasons, dtype: float64"
                        ]
                    },
                    "execution_count": 58,
                    "metadata": {},
                    "output_type": "execute_result"
                }
            ],
            "source": [
                "titles_df['seasons'].value_counts(bins=10, normalize = True).sort_index()"
            ]
        },
        {
            "cell_type": "markdown",
            "metadata": {},
            "source": [
                "Less than 1% have more than 13 seasons. There are a couple of pretty big outliers."
            ]
        },
        {
            "cell_type": "code",
            "execution_count": null,
            "metadata": {},
            "outputs": [
                {
                    "data": {
                        "text/plain": [
                            "['comedy',\n",
                            " 'family',\n",
                            " 'animation',\n",
                            " 'action',\n",
                            " 'fantasy',\n",
                            " 'horror',\n",
                            " 'drama',\n",
                            " 'war',\n",
                            " 'western',\n",
                            " 'european',\n",
                            " 'romance',\n",
                            " 'thriller',\n",
                            " 'crime',\n",
                            " 'history',\n",
                            " 'sport',\n",
                            " 'scifi',\n",
                            " 'documentation',\n",
                            " '',\n",
                            " 'music',\n",
                            " 'reality']"
                        ]
                    },
                    "execution_count": 59,
                    "metadata": {},
                    "output_type": "execute_result"
                }
            ],
            "source": [
                "genre_list = []\n",
                "\n",
                "for genre in titles_df.genres:\n",
                "    genre_names = genre.split(\",\")\n",
                "    for genre_name in genre_names:\n",
                "        genre_name = genre_name.strip(\" ['']\")\n",
                "        if genre_name not in genre_list:\n",
                "            genre_list.append(genre_name)\n",
                "\n",
                "genre_list"
            ]
        },
        {
            "cell_type": "code",
            "execution_count": null,
            "metadata": {},
            "outputs": [
                {
                    "data": {
                        "text/plain": [
                            "drama            11683\n",
                            "comedy            8975\n",
                            "thriller          4986\n",
                            "action            4806\n",
                            "romance           4293\n",
                            "documentation     3908\n",
                            "crime             3412\n",
                            "family            3004\n",
                            "scifi             2655\n",
                            "animation         2602\n",
                            "fantasy           2562\n",
                            "horror            2212\n",
                            "european          1838\n",
                            "music             1172\n",
                            "history           1084\n",
                            "western            866\n",
                            "reality            816\n",
                            "war                770\n",
                            "sport              699\n",
                            "                   436\n",
                            "dtype: int64"
                        ]
                    },
                    "execution_count": 60,
                    "metadata": {},
                    "output_type": "execute_result"
                }
            ],
            "source": [
                "show_genres_count = []\n",
                "\n",
                "for genre in titles_df.genres:\n",
                "    genre_names = genre.split(\",\")\n",
                "    for genre_name in genre_names:\n",
                "        genre_name = genre_name.strip(\" ['']\")\n",
                "        show_genres_count.append(genre_name)\n",
                "\n",
                "genre_count = {}\n",
                "\n",
                "for i in genre_list:\n",
                "    count = show_genres_count.count(i)\n",
                "    genre_count[i] = count\n",
                "\n",
                "genre_series = pd.Series(genre_count)\n",
                "\n",
                "genre_series.sort_values(ascending=False)"
            ]
        },
        {
            "attachments": {},
            "cell_type": "markdown",
            "metadata": {
                "azdata_cell_guid": "d45060f3-97bc-484a-9ef4-66145bbe9427"
            },
            "source": [
                "## Visualize\n",
                "\n",
                "Create any visualizations for your EDA here. Make note in the form of code comments of what your thought process is for your visualizations."
            ]
        },
        {
            "cell_type": "code",
            "execution_count": null,
            "metadata": {
                "azdata_cell_guid": "f4565b03-759a-47a8-b58f-01b32a0b4b67"
            },
            "outputs": [
                {
                    "data": {
                        "text/plain": [
                            "<AxesSubplot:xlabel='seasons', ylabel='Count'>"
                        ]
                    },
                    "execution_count": 61,
                    "metadata": {},
                    "output_type": "execute_result"
                },
                {
                    "data": {
                        "image/png": "[encoded data removed]",
                        "text/plain": [
                            "<Figure size 432x288 with 1 Axes>"
                        ]
                    },
                    "metadata": {
                        "needs_background": "light"
                    },
                    "output_type": "display_data"
                }
            ],
            "source": [
                "sns.histplot(titles_df.seasons)"
            ]
        },
        {
            "cell_type": "markdown",
            "metadata": {},
            "source": [
                "There are a lot of shows with 1 season. I'm  not sure if that's because some movies are mismarked or because that many shows get dropped after 1 season."
            ]
        },
        {
            "cell_type": "code",
            "execution_count": null,
            "metadata": {},
            "outputs": [
                {
                    "data": {
                        "text/plain": [
                            "<AxesSubplot:xlabel='release_year', ylabel='Count'>"
                        ]
                    },
                    "execution_count": 62,
                    "metadata": {},
                    "output_type": "execute_result"
                },
                {
                    "data": {
                        "image/png": "[encoded data removed]",
                        "text/plain": [
                            "<Figure size 432x288 with 1 Axes>"
                        ]
                    },
                    "metadata": {
                        "needs_background": "light"
                    },
                    "output_type": "display_data"
                }
            ],
            "source": [
                "sns.histplot(titles_df.release_year.dropna())"
            ]
        },
        {
            "cell_type": "markdown",
            "metadata": {},
            "source": [
                "I need to figure out where I might want to cut this off or if I do. If I'm looking at what's popular going forward, it might be worth dropping some of the older stuff."
            ]
        },
        {
            "cell_type": "code",
            "execution_count": null,
            "metadata": {},
            "outputs": [
                {
                    "data": {
                        "text/plain": [
                            "<AxesSubplot:xlabel='age_certification', ylabel='Count'>"
                        ]
                    },
                    "execution_count": 63,
                    "metadata": {},
                    "output_type": "execute_result"
                },
                {
                    "data": {
                        "image/png": "[encoded data removed]",
                        "text/plain": [
                            "<Figure size 432x288 with 1 Axes>"
                        ]
                    },
                    "metadata": {
                        "needs_background": "light"
                    },
                    "output_type": "display_data"
                }
            ],
            "source": [
                "sns.histplot(titles_df.age_certification.dropna().groupby('type'), palette=\"Paired\")"
            ]
        },
        {
            "cell_type": "markdown",
            "metadata": {},
            "source": [
                "This was just to get a feel for what the distribution looked like."
            ]
        },
        {
            "cell_type": "code",
            "execution_count": null,
            "metadata": {},
            "outputs": [
                {
                    "data": {
                        "image/png": "[encoded data removed]",
                        "text/plain": [
                            "<Figure size 432x288 with 1 Axes>"
                        ]
                    },
                    "metadata": {
                        "needs_background": "light"
                    },
                    "output_type": "display_data"
                }
            ],
            "source": [
                "ax = genre_series.plot.bar()"
            ]
        },
        {
            "cell_type": "code",
            "execution_count": null,
            "metadata": {
                "azdata_cell_guid": "cd64bab1-db4c-4295-820d-c6464b653a3e"
            },
            "outputs": [
                {
                    "data": {
                        "text/plain": [
                            "<AxesSubplot:xlabel='imdb_score', ylabel='tmdb_score'>"
                        ]
                    },
                    "execution_count": 65,
                    "metadata": {},
                    "output_type": "execute_result"
                },
                {
                    "data": {
                        "image/png": "[encoded data removed]",
                        "text/plain": [
                            "<Figure size 432x432 with 1 Axes>"
                        ]
                    },
                    "metadata": {
                        "needs_background": "light"
                    },
                    "output_type": "display_data"
                }
            ],
            "source": [
                "fig, ax = plt.subplots(figsize=(6, 6))\n",
                "sns.scatterplot(\n",
                "    data=titles_df,\n",
                "    x=\"imdb_score\",\n",
                "    y=\"tmdb_score\",\n",
                "    color=\"k\",\n",
                "    ax=ax,\n",
                ")"
            ]
        },
        {
            "cell_type": "markdown",
            "metadata": {},
            "source": [
                "It looks like there are many shows with a 10 in tmdb that vary greatly in their imdb scores. There also appear to be lines at each level. Not sure what's happening there."
            ]
        },
        {
            "cell_type": "markdown",
            "metadata": {
                "azdata_cell_guid": "d4931c0c-2c09-4ee1-95d4-73dd08c2f0a6"
            },
            "source": [
                "## Summarize Your Results\n",
                "\n",
                "With your EDA complete, answer the following questions.\n",
                "\n",
                "1. Was there anything surprising about your dataset? \n",
                "2. Do you have any concerns about your dataset? \n",
                "3. Is there anything you want to make note of for the next phase of your analysis, which is cleaning data? "
            ]
        },
        {
            "cell_type": "markdown",
            "metadata": {},
            "source": [
                "1. I'm curious to see if the one season shows are really that numerous or if it's being skewed by shows that either recently started or mismarked movies. I'm also noticing that half the shows include drama in their genres - which leads me to wonder to what extent is that a useful descriptor.\n",
                "\n",
                "2. The tmdb popularity score is still confusing to me. I also am not sure how I feel about lacking a count on the ratings for tmdb since small ratings counts could skew the data. I'm also a little unclear on whethere the imdb votes are a count or if they are a separate metric of some kind.\n",
                "\n",
                "3. I need to look and see if I have duplicates across the services. I don't necessarily want to delete them but they might need to be pulled out for any ratings/credits analysis, depending on how many duplicates their are.\n"
            ]
        },
        {
            "cell_type": "code",
            "execution_count": null,
            "metadata": {},
            "outputs": [],
            "source": [
                "titles_df.to_csv(r\"C:\\Users\\lizzc\\Desktop\\LaunchCode\\VideoStreamingData\\VideoStreamingProject\\title_df.csv\")\n",
                "credits_df.to_csv(r\"C:\\Users\\lizzc\\Desktop\\LaunchCode\\VideoStreamingData\\VideoStreamingProject\\credits_df.csv\")"
            ]
        }
    ],
    "metadata": {
        "interpreter": {
            "hash": "ad2bdc8ecc057115af97d19610ffacc2b4e99fae6737bb82f5d7fb13d2f2c186"
        },
        "kernelspec": {
            "display_name": "Python 3.9.7 ('base')",
            "language": "python",
            "name": "python3"
        },
        "language_info": {
            "codemirror_mode": {
                "name": "ipython",
                "version": 3
            },
            "file_extension": ".py",
            "mimetype": "text/x-python",
            "name": "python",
            "nbconvert_exporter": "python",
            "pygments_lexer": "ipython3",
            "version": "3.9.7"
        }
    },
    "nbformat": 4,
    "nbformat_minor": 2
}
